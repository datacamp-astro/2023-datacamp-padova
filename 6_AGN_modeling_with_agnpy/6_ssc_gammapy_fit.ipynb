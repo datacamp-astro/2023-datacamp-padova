{
 "cells": [
  {
   "cell_type": "markdown",
   "id": "d85404da",
   "metadata": {},
   "source": [
    "# 6.3 Fitting a BL Lac broad-band SED using angpy and Gammapy\n",
    "\n",
    "In order to perform a fit of the broad-band SED of a jetted AGN, `agnpy` includes a `gammapy` wrapper.\n",
    "The wrapper defines a custom [SpectralModel](https://docs.gammapy.org/0.20/api/gammapy.modeling.models.SpectralModel.html), representing the emission due to a combination of radiative processes. The `SpectralModel` can be used either to fit flux points or to perform a forward-folding likelihood fit (if the instrument response is available in a format compatible with `gammapy`). \n",
    "\n",
    "Several combination of radiative processes can be considered to model the broad-band emission of jetted AGN. For simplicity, we provide wrappers for the two scenarios most-commonly considered:\n",
    "\n",
    " * `SycnhrotronSelfComptonModel`, representing the sum of synchrotron and synchrotron self Compton (SSC) radiation. This scenario is commonly considered to model BL Lac sources;\n",
    "\n",
    " * `ExternalComptonModel`, representing the sum of synchrotron and synchrotron self Compton radiation along with an external Compton (EC) component. EC scattering can be computed considering a list of target photon fields. This scenario is commonly considered to model flat spectrum radio quasars (FSRQs).\n",
    "\n",
    "In this tutorial, we will show how to use the `SynchrotronSelfComptonSpectralModel` to fit the broad-band SED of Mrk 421, measured by a MWL campaign in 2009 [(Abdo et al. 2011)](https://ui.adsabs.harvard.edu/abs/2011ApJ...736..131A/abstract).\n",
    "\n",
    "[gammapy](https://gammapy.org/) is required to run this notebook."
   ]
  },
  {
   "cell_type": "code",
   "execution_count": null,
   "id": "55c7fc17",
   "metadata": {},
   "outputs": [],
   "source": [
    "# import numpy, astropy and matplotlib for basic functionalities\n",
    "import numpy as np\n",
    "import astropy.units as u\n",
    "import matplotlib.pyplot as plt\n",
    "import pkg_resources\n",
    "\n",
    "# import agnpy classes\n",
    "from agnpy.spectra import BrokenPowerLaw\n",
    "from agnpy.fit import SynchrotronSelfComptonModel, load_gammapy_flux_points\n",
    "from agnpy.utils.plot import load_mpl_rc, sed_y_label\n",
    "\n",
    "load_mpl_rc()\n",
    "\n",
    "# import gammapy classes\n",
    "from gammapy.modeling.models import SkyModel\n",
    "from gammapy.modeling import Fit"
   ]
  },
  {
   "cell_type": "markdown",
   "id": "c685d482",
   "metadata": {},
   "source": [
    "## 6.3.1 `gammapy` wrapper of agnpy synchrotron and SSC\n",
    "\n",
    "The `SynchrotronSelfComptonModel` wraps the `agnpy` functions to compute synchrotron and SSC radiation and returns a `gammapy.modeling.SpectralModel`. To initialise this spectral model, only the electron distribution has to be specified, the remaining parameters (the ones of the emission region) will be initialised automatically and can be modified at a later stage.\n",
    "\n",
    "The `SynchrotronSelfComptonModel` class provides both the `sherpa` and `gammapy` wrappers. You should specify, through the `backend` argument, which package you want to use."
   ]
  },
  {
   "cell_type": "code",
   "execution_count": null,
   "id": "0855e01a",
   "metadata": {},
   "outputs": [],
   "source": [
    "# electron energy distribution\n",
    "n_e = BrokenPowerLaw(\n",
    "    k=1e-8 * u.Unit(\"cm-3\"),\n",
    "    p1=2.02,\n",
    "    p2=3.43,\n",
    "    gamma_b=1e5,\n",
    "    gamma_min=500,\n",
    "    gamma_max=1e6,\n",
    ")\n",
    "\n",
    "# initialise the Gammapy SpectralModel\n",
    "ssc_model = SynchrotronSelfComptonModel(n_e, backend=\"gammapy\")"
   ]
  },
  {
   "cell_type": "markdown",
   "id": "829853d9",
   "metadata": {},
   "source": [
    "Let us set appropriate parameters for the emission region. The size of the blob, $R_{\\rm b}$, is set by the variability timescale, $t_{\\rm var}$, via\n",
    "\n",
    "\\begin{equation}\n",
    "R_{\\rm b} = \\frac{c \\delta_{\\rm D} t_{\\rm var}}{1 + z},\n",
    "\\end{equation}\n",
    "\n",
    "where $c$ is the speed of light, $\\delta_{\\rm D}$ the Doppler factor, and $z$ the redshift."
   ]
  },
  {
   "cell_type": "code",
   "execution_count": null,
   "id": "51753947",
   "metadata": {},
   "outputs": [],
   "source": [
    "ssc_model.parameters[\"z\"].value = 0.0308\n",
    "ssc_model.parameters[\"delta_D\"].value = 18\n",
    "ssc_model.parameters[\"t_var\"].value = (1 * u.d).to_value(\"s\")\n",
    "ssc_model.parameters[\"t_var\"].frozen = True\n",
    "ssc_model.parameters[\"log10_B\"].value = -1.3"
   ]
  },
  {
   "cell_type": "markdown",
   "id": "1d4c490b",
   "metadata": {},
   "source": [
    "With the gammapy backend, we can display all the parameters of the model at once"
   ]
  },
  {
   "cell_type": "code",
   "execution_count": null,
   "id": "20bba34e",
   "metadata": {},
   "outputs": [],
   "source": [
    "ssc_model.parameters.to_table()"
   ]
  },
  {
   "cell_type": "markdown",
   "id": "d17c1ba2",
   "metadata": {},
   "source": [
    "or display separately the parameters related to the electrons energy distribution"
   ]
  },
  {
   "cell_type": "code",
   "execution_count": null,
   "id": "6403829f",
   "metadata": {},
   "outputs": [],
   "source": [
    "ssc_model.spectral_parameters.to_table()"
   ]
  },
  {
   "cell_type": "markdown",
   "id": "f3d64539",
   "metadata": {},
   "source": [
    "and the parameters related to the emission region, the blob, in this case"
   ]
  },
  {
   "cell_type": "code",
   "execution_count": null,
   "id": "2a583d09",
   "metadata": {},
   "outputs": [],
   "source": [
    "ssc_model.emission_region_parameters.to_table()"
   ]
  },
  {
   "cell_type": "markdown",
   "id": "0aa62617",
   "metadata": {},
   "source": [
    "## 6.3.2 Fit with `gammapy`\n",
    "Here we start the procedure to fit with Gammapy.\n",
    "\n",
    "#### 1) load the MWL flux points, add systematics\n",
    "A function is provided in `agnpy.fit` to directly load flux points in a list of `gammapy.datasets.FluxPointsDataset` object. It reads the data from a file, included in the package, containing a MWL SED following [these specifications](https://gamma-astro-data-formats.readthedocs.io/en/v0.2/spectra/flux_points/index.html).\n",
    "\n",
    "The same function allows to add a systematic error on the flux points, this is done with a dictionary specifying the instrument name and the systematic error, expressed as a relative error on the flux. The systematic error is summed in quadrature to the statistical error.\n",
    "\n",
    "In this example, we use a very rough and conservative estimate of the systematic errors ($30\\%$ of the flux for VHE instruments, $10\\%$ for HE and X-ray instruments, $5\\%$ for all the other instruments).\n",
    "\n",
    "Specifying the systematic errors through the dictionary is optional.\n",
    "\n",
    "We can also set the minimum and maximum energy to be used in the fit. We exclude points below $10^{11}\\,{\\rm Hz}$, as they are measured in the radio band with large integration regions. They hence include the extended emission of the jet, while in our model we are considering the emission from a finite region of the jet, the blob."
   ]
  },
  {
   "cell_type": "code",
   "execution_count": null,
   "id": "8b6c0de5",
   "metadata": {
    "scrolled": true
   },
   "outputs": [],
   "source": [
    "sed_path = pkg_resources.resource_filename(\"agnpy\", \"data/mwl_seds/Mrk421_2011.ecsv\")\n",
    "\n",
    "systematics_dict = {\n",
    "    \"Fermi\": 0.10,\n",
    "    \"GASP\": 0.05,\n",
    "    \"GRT\": 0.05,\n",
    "    \"MAGIC\": 0.30,\n",
    "    \"MITSuME\": 0.05,\n",
    "    \"Medicina\": 0.05,\n",
    "    \"Metsahovi\": 0.05,\n",
    "    \"NewMexicoSkies\": 0.05,\n",
    "    \"Noto\": 0.05,\n",
    "    \"OAGH\": 0.05,\n",
    "    \"OVRO\": 0.05,\n",
    "    \"RATAN\": 0.05,\n",
    "    \"ROVOR\": 0.05,\n",
    "    \"RXTE/PCA\": 0.10,\n",
    "    \"SMA\": 0.05,\n",
    "    \"Swift/BAT\": 0.10,\n",
    "    \"Swift/UVOT\": 0.05,\n",
    "    \"Swift/XRT\": 0.10,\n",
    "    \"VLBA(BK150)\": 0.05,\n",
    "    \"VLBA(BP143)\": 0.05,\n",
    "    \"VLBA(MOJAVE)\": 0.05,\n",
    "    \"VLBA_core(BP143)\": 0.05,\n",
    "    \"VLBA_core(MOJAVE)\": 0.05,\n",
    "    \"WIRO\": 0.05,\n",
    "}\n",
    "\n",
    "# define minimum and maximum energy to be used in the fit\n",
    "E_min = (1e11 * u.Hz).to(\"eV\", equivalencies=u.spectral())\n",
    "E_max = 100 * u.TeV\n",
    "\n",
    "datasets = load_gammapy_flux_points(sed_path, E_min, E_max, systematics_dict)"
   ]
  },
  {
   "cell_type": "markdown",
   "id": "5b0e708a",
   "metadata": {},
   "source": [
    "For the gammapy wrapper, we have to define a spectral model and associate it to the list of datasets we obtained from the flux points."
   ]
  },
  {
   "cell_type": "code",
   "execution_count": null,
   "id": "15e60518",
   "metadata": {},
   "outputs": [],
   "source": [
    "sky_model = SkyModel(spectral_model=ssc_model, name=\"Mrk421\")\n",
    "datasets.models = [sky_model]"
   ]
  },
  {
   "cell_type": "markdown",
   "id": "0ee86bb5",
   "metadata": {},
   "source": [
    "Let us plot all the flux points and the initial model "
   ]
  },
  {
   "cell_type": "code",
   "execution_count": null,
   "id": "0158bbd7",
   "metadata": {},
   "outputs": [],
   "source": [
    "fig, ax = plt.subplots(figsize=(8, 6))\n",
    "\n",
    "for dataset in datasets:\n",
    "    dataset.data.plot(ax=ax, label=dataset.name)\n",
    "\n",
    "ssc_model.plot(\n",
    "    ax=ax,\n",
    "    energy_bounds=[1e-6, 1e14] * u.eV,\n",
    "    energy_power=2,\n",
    "    label=\"SSC model\",\n",
    "    color=\"k\",\n",
    "    lw=1.6,\n",
    ")\n",
    "\n",
    "ax.set_ylabel(sed_y_label)\n",
    "ax.set_xlabel(r\"$E\\,/\\,{\\rm eV}$\")\n",
    "ax.set_xlim([1e-6, 1e14])\n",
    "ax.legend(ncol=4, fontsize=9)\n",
    "\n",
    "plt.show()"
   ]
  },
  {
   "cell_type": "markdown",
   "id": "316896e9",
   "metadata": {},
   "source": [
    "#### 2) run the fit"
   ]
  },
  {
   "cell_type": "code",
   "execution_count": null,
   "id": "040420d3",
   "metadata": {},
   "outputs": [],
   "source": [
    "%%time\n",
    "# define the fitter\n",
    "fitter = Fit()\n",
    "results = fitter.run(datasets)"
   ]
  },
  {
   "cell_type": "code",
   "execution_count": null,
   "id": "83c99973",
   "metadata": {},
   "outputs": [],
   "source": [
    "print(results)\n",
    "print(ssc_model.parameters.to_table())"
   ]
  },
  {
   "cell_type": "markdown",
   "id": "ea762fe8",
   "metadata": {},
   "source": [
    "Now let us plot the final model and the flux points"
   ]
  },
  {
   "cell_type": "code",
   "execution_count": null,
   "id": "fea7342b",
   "metadata": {},
   "outputs": [],
   "source": [
    "fig, ax = plt.subplots(figsize=(8, 6))\n",
    "\n",
    "for dataset in datasets:\n",
    "    dataset.data.plot(ax=ax, label=dataset.name)\n",
    "\n",
    "ssc_model.plot(\n",
    "    ax=ax,\n",
    "    energy_bounds=[1e-6, 1e14] * u.eV,\n",
    "    energy_power=2,\n",
    "    label=\"model\",\n",
    "    color=\"k\",\n",
    "    lw=1.6,\n",
    ")\n",
    "\n",
    "# plot a line marking the minimum energy considered in the fit\n",
    "ax.axvline(E_min, ls=\"--\", color=\"gray\")\n",
    "\n",
    "plt.legend(ncol=4, fontsize=9)\n",
    "plt.xlim([1e-6, 1e14])\n",
    "plt.show()"
   ]
  },
  {
   "cell_type": "markdown",
   "id": "e9fe6702",
   "metadata": {},
   "source": [
    "#### 3) Use Gammapy's functionalities to visualise the fit results\n",
    "\n",
    "If you want to find more about fitting with gammapy, you can read [this tutorial](https://docs.gammapy.org/0.20.1/tutorials/api/fitting.html). To show the additional capabilities of the fitting with `gammapy`, we illustrate how to visualise the migration matrix and asses the quality of the fit by plotting the likelihood profile of one of the parameters. "
   ]
  },
  {
   "cell_type": "code",
   "execution_count": null,
   "id": "976b6ca1",
   "metadata": {},
   "outputs": [],
   "source": [
    "# plot the covariance matrix\n",
    "ssc_model.covariance.plot_correlation()\n",
    "plt.grid(False)\n",
    "plt.show()"
   ]
  },
  {
   "cell_type": "code",
   "execution_count": null,
   "id": "052e8131",
   "metadata": {},
   "outputs": [],
   "source": [
    "%%time\n",
    "# plot the profile for the normalisation of the electron energy distribution\n",
    "par = sky_model.spectral_model.log10_k\n",
    "par.scan_n_values = 50\n",
    "profile = fitter.stat_profile(datasets=datasets, parameter=par)\n",
    "\n",
    "# to compute the delta TS\n",
    "total_stat = results.total_stat"
   ]
  },
  {
   "cell_type": "code",
   "execution_count": null,
   "id": "8feb3ccf",
   "metadata": {},
   "outputs": [],
   "source": [
    "plt.plot(profile[\"Mrk421.spectral.log10_k_scan\"], profile[\"stat_scan\"] - total_stat)\n",
    "plt.ylabel(r\"$\\Delta(TS)$\", size=12)\n",
    "plt.xlabel(r\"$log_{10}(k_{\\rm e} / {\\rm cm}^{-3})$\", size=12)\n",
    "plt.show()"
   ]
  }
 ],
 "metadata": {
  "kernelspec": {
   "display_name": "Python 3 (ipykernel)",
   "language": "python",
   "name": "python3"
  },
  "language_info": {
   "codemirror_mode": {
    "name": "ipython",
    "version": 3
   },
   "file_extension": ".py",
   "mimetype": "text/x-python",
   "name": "python",
   "nbconvert_exporter": "python",
   "pygments_lexer": "ipython3",
   "version": "3.9.18"
  },
  "vscode": {
   "interpreter": {
    "hash": "aee8b7b246df8f9039afb4144a1f6fd8d2ca17a180786b69acc140d282b71a49"
   }
  }
 },
 "nbformat": 4,
 "nbformat_minor": 5
}
