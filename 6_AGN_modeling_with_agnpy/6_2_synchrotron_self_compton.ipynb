{
 "cells": [
  {
   "cell_type": "markdown",
   "metadata": {},
   "source": [
    "# 6.2 Synchrotron and Synchrotron Self Compton\n",
    "\n",
    "In this tutorial, we will show how to compute the Spectral Energy Distribution (SED) produced by the Synchrotron and Synchrotron Self-Compton radiative processes.\n",
    "\n",
    "We will also validate the results produced by `agnpy` by comparing them against the literature."
   ]
  },
  {
   "cell_type": "code",
   "execution_count": null,
   "metadata": {},
   "outputs": [],
   "source": [
    "# import numpy, astropy and matplotlib for basic functionalities\n",
    "import numpy as np\n",
    "import astropy.units as u\n",
    "from astropy.constants import m_e, m_p\n",
    "from astropy.coordinates import Distance\n",
    "import pkg_resources\n",
    "import matplotlib.pyplot as plt\n",
    "from IPython.display import Image, display"
   ]
  },
  {
   "cell_type": "code",
   "execution_count": null,
   "metadata": {},
   "outputs": [],
   "source": [
    "# import agnpy classes\n",
    "from agnpy.spectra import PowerLaw, BrokenPowerLaw\n",
    "from agnpy.emission_regions import Blob\n",
    "from agnpy.synchrotron import Synchrotron, ProtonSynchrotron\n",
    "from agnpy.compton import SynchrotronSelfCompton\n",
    "from agnpy.utils.plot import plot_sed"
   ]
  },
  {
   "cell_type": "markdown",
   "metadata": {},
   "source": [
    "### 3.1. Synchrotron and Synchrotron Self-Compton emission in `agnpy`\n",
    "Let us consider that the emission region is a blob of radius $R_b = 10^{16}\\,\\mathrm{cm}$, streaming with Lorentz factor $\\Gamma=10$ along the jet axis, resulting in a Doppler boosting of $\\delta_D=10$ (the jet is almost aligned with the observer's line of sight). The blob has a tangled magnetic field $B=1\\,\\mathrm{G}$. The galaxy hosting the active nucleus is at a distance of $d_L=10^{27}\\,\\mathrm{cm}$. \n",
    "\n",
    "The electron spectrum is described by a power law with index $-2.8$ with Lorentz factors in the range $10^2-10^7$ and a total energy content of $W_{\\rm e} = 10^{48}\\,{\\rm erg}$."
   ]
  },
  {
   "cell_type": "code",
   "execution_count": null,
   "metadata": {},
   "outputs": [],
   "source": [
    "# blob attributes\n",
    "R_b = 1e16 * u.cm\n",
    "B = 1 * u.G\n",
    "z = Distance(1e27, unit=u.cm).z\n",
    "delta_D = 10\n",
    "Gamma = 10\n",
    "\n",
    "# total energy content of the electron distribution\n",
    "W_e = 1e48 * u.Unit(\"erg\")\n",
    "V_b = 4 / 3 * np.pi * R_b**3\n",
    "\n",
    "n_e = PowerLaw.from_total_energy(\n",
    "    W_e,\n",
    "    V_b,\n",
    "    p=2.8,\n",
    "    gamma_min=1e2,\n",
    "    gamma_max=1e7,\n",
    "    mass=m_e,\n",
    ")\n",
    "\n",
    "# emission region\n",
    "blob = Blob(R_b=R_b, z=z, delta_D=delta_D, Gamma=Gamma, B=B, n_e=n_e)"
   ]
  },
  {
   "cell_type": "code",
   "execution_count": null,
   "metadata": {},
   "outputs": [],
   "source": [
    "print(blob)"
   ]
  },
  {
   "cell_type": "markdown",
   "metadata": {},
   "source": [
    "### 3.1.1. Synchrotron radiation\n",
    "To initialize the object that will compute the synchrotron radiation, **we simply pass the `Blob` instance to the `Synchrotron` class**. Synchrotron self absorption can also be considered."
   ]
  },
  {
   "cell_type": "code",
   "execution_count": null,
   "metadata": {},
   "outputs": [],
   "source": [
    "synch = Synchrotron(blob)\n",
    "synch_ssa = Synchrotron(blob, ssa=True)"
   ]
  },
  {
   "cell_type": "markdown",
   "metadata": {},
   "source": [
    "Every class defining a radiative process has a `.sed_flux` function computing the SED over an array of frequencies."
   ]
  },
  {
   "cell_type": "code",
   "execution_count": null,
   "metadata": {},
   "outputs": [],
   "source": [
    "# let us define a grid of frequencies over which to calculate the synchrotron SED\n",
    "nu_synch = np.logspace(8, 23) * u.Hz\n",
    "\n",
    "# compute a synchrotron, and a self-absorbed synchrotron SED\n",
    "sed_synch = synch.sed_flux(nu_synch)\n",
    "sed_synch_ssa = synch_ssa.sed_flux(nu_synch)"
   ]
  },
  {
   "cell_type": "code",
   "execution_count": null,
   "metadata": {},
   "outputs": [],
   "source": [
    "plot_sed(nu_synch, sed_synch, color=\"k\", label=\"synch.\")\n",
    "plot_sed(nu_synch, sed_synch_ssa, ls=\"--\", color=\"gray\", label=\"self-absorbed synch.\")\n",
    "plt.show()"
   ]
  },
  {
   "cell_type": "markdown",
   "metadata": {},
   "source": [
    "### 3.1.2. Synchrotron Self-Compton Radiation\n",
    "Similarly to the synchrotron case, to initialize the object that will compute the synchrotron self-Compton (SSC) radiation, we simply pass the `Blob` instance to the `SynchrotronSelfCompton` class.       \n",
    "We examine also the case produced by Compton scattering of a self-absorbed synchrotron spectrum."
   ]
  },
  {
   "cell_type": "code",
   "execution_count": null,
   "metadata": {},
   "outputs": [],
   "source": [
    "# simple ssc\n",
    "ssc = SynchrotronSelfCompton(blob)\n",
    "# ssc over a self-absorbed synchrotron spectrum\n",
    "ssc_ssa = SynchrotronSelfCompton(blob, ssa=True)"
   ]
  },
  {
   "cell_type": "code",
   "execution_count": null,
   "metadata": {},
   "outputs": [],
   "source": [
    "nu_ssc = np.logspace(15, 30) * u.Hz\n",
    "\n",
    "sed_ssc = ssc.sed_flux(nu_ssc)\n",
    "sed_ssc_ssa = ssc_ssa.sed_flux(nu_ssc)"
   ]
  },
  {
   "cell_type": "code",
   "execution_count": null,
   "metadata": {},
   "outputs": [],
   "source": [
    "plot_sed(nu_ssc, sed_ssc, color=\"k\", label=\"SSC\")\n",
    "plot_sed(nu_ssc, sed_ssc_ssa, ls=\"--\", color=\"gray\", label=\"SSC with SSA\")\n",
    "plt.show()"
   ]
  },
  {
   "cell_type": "markdown",
   "metadata": {},
   "source": [
    "## 3.2. Validation: compare the result of `agnpy` against the literature and `JetSet`\n",
    "\n",
    "In order to validate `agnpy` we can compare the results of its calculations against the literature and against other software.\n",
    "\n",
    "For what concerns the literature, we choose to reproduce Figure 7.4 of [Dermer and Menon (2009)](https://ui.adsabs.harvard.edu/abs/2009herb.book.....D/abstract). The figure, reported here, depicts two complete synchrotron and SSC SEDs, generated by the same emission regions distinguished only by the different maximum Lorentz factor of their electron distributions ($\\gamma_{\\rm max} = 10^5$ and $\\gamma_{\\rm max} = 10^7$)."
   ]
  },
  {
   "cell_type": "code",
   "execution_count": null,
   "metadata": {},
   "outputs": [],
   "source": [
    "url = \"https://raw.githubusercontent.com/cosimoNigro/agnpy/master/docs/tutorials/figures/figure_7_4_dermer_2009.png\"\n",
    "Image(url, width=800, height=600)"
   ]
  },
  {
   "cell_type": "markdown",
   "metadata": {},
   "source": [
    "In the figure, the model with $\\gamma_{\\rm max} = 10^7$ has the same parameter values we used in the definition of our blob. The numerical values of the SED in the reference figure are stored in the `agnpy` resources."
   ]
  },
  {
   "cell_type": "code",
   "execution_count": null,
   "metadata": {},
   "outputs": [],
   "source": [
    "# load the SED from the reference figure\n",
    "synch_dermer = pkg_resources.resource_filename(\n",
    "    \"agnpy\",\n",
    "    \"data/reference_seds/dermer_menon_2009/figure_7_4/synchrotron_gamma_max_1e7.txt\",\n",
    ")\n",
    "\n",
    "ssc_dermer = pkg_resources.resource_filename(\n",
    "    \"agnpy\", \"data/reference_seds/dermer_menon_2009/figure_7_4/ssc_gamma_max_1e7.txt\"\n",
    ")\n",
    "\n",
    "data_synch_dermer = np.loadtxt(synch_dermer, delimiter=\",\")\n",
    "data_ssc_dermer = np.loadtxt(ssc_dermer, delimiter=\",\")\n",
    "\n",
    "nu_synch_dermer = data_synch_dermer[:, 0] * u.Hz\n",
    "sed_synch_dermer = data_synch_dermer[:, 1] * u.Unit(\"erg cm-2 s-1\")\n",
    "\n",
    "nu_ssc_dermer = data_ssc_dermer[:, 0] * u.Hz\n",
    "sed_ssc_dermer = data_ssc_dermer[:, 1] * u.Unit(\"erg cm-2 s-1\")"
   ]
  },
  {
   "cell_type": "markdown",
   "metadata": {},
   "source": [
    "We then produce a final validation plot."
   ]
  },
  {
   "cell_type": "code",
   "execution_count": null,
   "metadata": {},
   "outputs": [],
   "source": [
    "plot_sed(\n",
    "    nu_synch,\n",
    "    sed_synch,\n",
    "    color=\"crimson\",\n",
    "    label=\"agnpy\",\n",
    ")\n",
    "plot_sed(nu_ssc, sed_ssc, color=\"crimson\")\n",
    "\n",
    "plot_sed(\n",
    "    nu_synch_dermer,\n",
    "    sed_synch_dermer,\n",
    "    color=\"k\",\n",
    "    ls=\"--\",\n",
    "    label=\"Figure 7.4, Dermer et al. 2009\",\n",
    ")\n",
    "plot_sed(nu_ssc_dermer, sed_ssc_dermer, color=\"k\", ls=\"--\")\n",
    "\n",
    "plt.legend(fontsize=11)\n",
    "plt.ylim([1e-13, 1e-8])\n",
    "plt.show()"
   ]
  },
  {
   "cell_type": "markdown",
   "metadata": {},
   "source": [
    "We get an excellent agreement, further validation examples are provided in the [agnpy release paper](https://arxiv.org/abs/2112.14573)."
   ]
  },
  {
   "cell_type": "markdown",
   "metadata": {},
   "source": [
    "## 3.3. Exercises \n",
    "\n",
    "### 3.3.1 Equipartition\n",
    "Determine if this jet is at equipartition.\n",
    "\n",
    "### 3.3.2 Peak of the synchrotron distribution\n",
    "Consider that the blob previously defined contains a `BrokenPowerLaw` of electrons with spectral indexes $p_1 = 2.1$, $p_2=3.5$, break Lorentz factor $\\gamma_b=10^4$, minimum and maximum Lorentz factors $\\gamma_{\\rm min}=10$ and $\\gamma_{\\rm max}=10^6$, respectively. The normalisation is irrelevant for the sake of the exercise. Obtain the frequency where the peak of the synchrotron emission is occurring (search in the `agnpy` documentation for the `Synchrotron` class and its functions). Using the slides, or the agnpy documentation, calculate the peak of the the single-particle synchrotron emission for a particle with $\\gamma=\\gamma_b=10^4$. Remember that frequencies are boosted by a multiplicative factor $\\delta_{\\rm D}$. Are the two frequency close? What could we conclude?"
   ]
  },
  {
   "cell_type": "markdown",
   "metadata": {},
   "source": [
    "## 3.4. Proton Synchrotron\n",
    "\n",
    "Since version `0.4.0` the synchrotron radiation of protons is available in `agnpy`.\n",
    "Let us define a proton particle distribution and add it to the blob."
   ]
  },
  {
   "cell_type": "code",
   "execution_count": null,
   "metadata": {},
   "outputs": [],
   "source": [
    "# total energy content of the electron distribution\n",
    "W_p = 1e54 * u.Unit(\"erg\")\n",
    "V_b = 4 / 3 * np.pi * R_b**3\n",
    "\n",
    "n_p = PowerLaw.from_total_energy(\n",
    "    W_p,\n",
    "    V_b,\n",
    "    p=2.5,\n",
    "    gamma_min=1e3,\n",
    "    gamma_max=1e11,\n",
    "    mass=m_p,\n",
    ")\n",
    "\n",
    "# re-define the emission region\n",
    "blob = Blob(R_b=R_b, z=z, delta_D=delta_D, Gamma=Gamma, B=B, n_e=n_e, n_p=n_p)"
   ]
  },
  {
   "cell_type": "code",
   "execution_count": null,
   "metadata": {},
   "outputs": [],
   "source": [
    "# the ProtonSynchrotron class works exactly as the Synchrotron class\n",
    "synch = Synchrotron(blob)\n",
    "\n",
    "psynch = ProtonSynchrotron(blob)\n",
    "\n",
    "nu = np.logspace(8, 28, 200) * u.Hz\n",
    "\n",
    "sed_synch = synch.sed_flux(nu)\n",
    "sed_psynch = psynch.sed_flux(nu)"
   ]
  },
  {
   "cell_type": "code",
   "execution_count": null,
   "metadata": {},
   "outputs": [],
   "source": [
    "fig, ax = plt.subplots()\n",
    "\n",
    "plot_sed(\n",
    "    nu,\n",
    "    sed_synch,\n",
    "    ax=ax,\n",
    "    label=\"electron synchrotron\",\n",
    ")\n",
    "plot_sed(\n",
    "    nu,\n",
    "    sed_psynch,\n",
    "    ax=ax,\n",
    "    color=\"crimson\",\n",
    "    label=\"proton synchrotron\",\n",
    ")\n",
    "\n",
    "ax.set_ylim([1e-14, 1e-8])\n",
    "plt.show()"
   ]
  }
 ],
 "metadata": {
  "kernelspec": {
   "display_name": "Python 3 (ipykernel)",
   "language": "python",
   "name": "python3"
  },
  "language_info": {
   "codemirror_mode": {
    "name": "ipython",
    "version": 3
   },
   "file_extension": ".py",
   "mimetype": "text/x-python",
   "name": "python",
   "nbconvert_exporter": "python",
   "pygments_lexer": "ipython3",
   "version": "3.9.18"
  }
 },
 "nbformat": 4,
 "nbformat_minor": 2
}
