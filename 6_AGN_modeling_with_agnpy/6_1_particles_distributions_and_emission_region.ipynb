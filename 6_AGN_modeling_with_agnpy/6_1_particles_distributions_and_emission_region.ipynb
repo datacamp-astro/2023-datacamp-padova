{
 "cells": [
  {
   "cell_type": "markdown",
   "id": "4064b187",
   "metadata": {},
   "source": [
    "# 6.1 Particles distribution and Emission region\n",
    "\n",
    "In this tutorial, we describe the non-thermal particle distributions available in `agnpy` and illustrate how to define the region containing and accelerating them, usually referred to as _emission_ region."
   ]
  },
  {
   "cell_type": "code",
   "execution_count": null,
   "id": "ef479077",
   "metadata": {},
   "outputs": [],
   "source": [
    "# import numpy, astropy and matplotlib for basic functionalities\n",
    "import numpy as np\n",
    "import astropy.units as u\n",
    "from astropy.constants import m_e, m_p, c\n",
    "from astropy.coordinates import Distance\n",
    "import matplotlib.pyplot as plt\n",
    "from IPython.display import Image"
   ]
  },
  {
   "cell_type": "code",
   "execution_count": null,
   "id": "ad5f8c3c",
   "metadata": {},
   "outputs": [],
   "source": [
    "# import agnpy classes\n",
    "from agnpy.spectra import PowerLaw, BrokenPowerLaw, LogParabola\n",
    "from agnpy.emission_regions import Blob"
   ]
  },
  {
   "cell_type": "markdown",
   "id": "12e640e6",
   "metadata": {},
   "source": [
    "## 6.1.1 Definition of particles distributions\n",
    "\n",
    "The `agnpy.spectra` module provides classes describing the energy distributions of particles accelerated in the jets. The energy distribution is commonly represented by an analytical function, usually a power law (and its broken, curved, and cut-off variations), returning the volume density of particles, $n [{\\rm cm}]^{-3}$, as a function of their Lorentz factor, $\\gamma$. For the simplest power law:\n",
    "\n",
    "\\begin{equation}\n",
    "n(\\gamma) = k\\,\\gamma^{-p} \\, H(\\gamma; \\gamma_{\\rm min}, \\gamma_{\\rm max}),\n",
    "\\end{equation}\n",
    "\n",
    "where $k$ is an amplitude in ${\\rm cm}^{-3}$, $p$ the spectral index, and the Heaviside function ensures null values outside the range $[\\gamma_{\\rm min}, \\gamma_{\\rm max}]$. Several analytical functions are available, along with a function that interpolates an series of $n [{\\rm cm}]^{-3}$ values.\n",
    "\n",
    "We illustrate, in the following, how to declare an electron and a proton particle distributions"
   ]
  },
  {
   "cell_type": "code",
   "execution_count": null,
   "id": "40707fbc",
   "metadata": {},
   "outputs": [],
   "source": [
    "# define an electron distribution\n",
    "n_e = BrokenPowerLaw(\n",
    "    k=1e-8 * u.Unit(\"cm-3\"),\n",
    "    p1=1.9,\n",
    "    p2=2.6,\n",
    "    gamma_b=1e4,\n",
    "    gamma_min=10,\n",
    "    gamma_max=1e6,\n",
    "    mass=m_e,\n",
    ")\n",
    "\n",
    "# define a proton distribution\n",
    "n_p = PowerLaw(k=0.1 * u.Unit(\"cm-3\"), p=2.3, gamma_min=10, gamma_max=1e6, mass=m_p)"
   ]
  },
  {
   "cell_type": "markdown",
   "id": "59d9e938",
   "metadata": {},
   "source": [
    "As we can see, the parameter `mass` distinguishes the particle type."
   ]
  },
  {
   "cell_type": "code",
   "execution_count": null,
   "id": "8aa8bfc7",
   "metadata": {},
   "outputs": [],
   "source": [
    "# we can plot the particles distribution defined above\n",
    "# we can represent them multiplied by an arbitrary power of gamma\n",
    "fig, ax = plt.subplots()\n",
    "\n",
    "n_e.plot(ax=ax, gamma_power=2, label=\"electrons\")\n",
    "n_p.plot(ax=ax, gamma_power=2, label=\"protons\")\n",
    "\n",
    "ax.legend()\n",
    "plt.show()"
   ]
  },
  {
   "cell_type": "markdown",
   "id": "9865fe32",
   "metadata": {},
   "source": [
    "## 6.1.2 Definition of the emission region"
   ]
  },
  {
   "cell_type": "code",
   "execution_count": null,
   "id": "1c0675fb",
   "metadata": {},
   "outputs": [],
   "source": [
    "Image(\"../figures/AGN_scheme.png\", width=800)"
   ]
  },
  {
   "cell_type": "markdown",
   "id": "3e34975a",
   "metadata": {},
   "source": [
    "The only emission region currently available in the package is a simple spherical plasmoid, commonly referred to as _blob_ in the literature.\n",
    "\n",
    "The blob represents a spherical region of plasma streaming along the jet.\n",
    "The physical quantities _needed_ to define the `~agnpy.emission_regions.Blob` are:\n",
    "\n",
    "- its radius, $R_{\\rm b}$;\n",
    "- its distance from the observer, expressed through the redshift $z$ of the host galaxy;\n",
    "- the Doppler factor produced by the motion of the jet, $\\delta_{\\rm D} = \\frac{1}{\\Gamma(1 - \\beta\\cos(\\theta_{\\rm s}))}$. Where $\\beta$ is the blob relativistic velocity, $\\Gamma$ its bulk Lorentz factor, and $\\theta_{\\rm s}$ the angle between the jet axis and the observer's line of sight;\n",
    "- the bulk Lorentz factor of the jet, $\\Gamma$;\n",
    "- the magnetic field tangled to the blob, $B$, assumed to be uniform; \n",
    "- the energy distributions of particles accelerated in the blob.\n",
    "\n",
    "Follows a snippet initialising the `Blob` with its physical quantities and an electrons distribution."
   ]
  },
  {
   "cell_type": "code",
   "execution_count": null,
   "id": "34063549",
   "metadata": {},
   "outputs": [],
   "source": [
    "# set the quantities defining the blob\n",
    "R_b = 1e16 * u.cm\n",
    "z = Distance(1e27, unit=u.cm).z\n",
    "delta_D = 10\n",
    "Gamma = 10\n",
    "B = 1 * u.G\n",
    "\n",
    "# electron distribution\n",
    "n_e = BrokenPowerLaw(\n",
    "    k=1e-8 * u.Unit(\"cm-3\"),\n",
    "    p1=1.9,\n",
    "    p2=2.6,\n",
    "    gamma_b=1e4,\n",
    "    gamma_min=10,\n",
    "    gamma_max=1e6,\n",
    "    mass=m_e,\n",
    ")\n",
    "\n",
    "blob = Blob(R_b, z, delta_D, Gamma, B, n_e=n_e)"
   ]
  },
  {
   "cell_type": "code",
   "execution_count": null,
   "id": "3c6f72a2",
   "metadata": {},
   "outputs": [],
   "source": [
    "# we can always print the blob to check the quantities initialised\n",
    "print(blob)"
   ]
  },
  {
   "cell_type": "markdown",
   "id": "1bb493bd",
   "metadata": {},
   "source": [
    "we can also add a proton distribution to the blob"
   ]
  },
  {
   "cell_type": "code",
   "execution_count": null,
   "id": "205a1f07",
   "metadata": {},
   "outputs": [],
   "source": [
    "# add a proton energy distribution\n",
    "n_p = PowerLaw(k=0.1 * u.Unit(\"cm-3\"), p=2.3, gamma_min=10, gamma_max=1e6, mass=m_p)\n",
    "blob = Blob(R_b, z, delta_D, Gamma, B, n_e=n_e, n_p=n_p)\n",
    "\n",
    "print(blob)"
   ]
  },
  {
   "cell_type": "markdown",
   "id": "8dc08833",
   "metadata": {},
   "source": [
    "The blob instance contains more quantities than those we specified to initialize it. Once created, we can check, for example:"
   ]
  },
  {
   "cell_type": "code",
   "execution_count": null,
   "id": "5448ed79",
   "metadata": {},
   "outputs": [],
   "source": [
    "print(\"energy density in electrons:\", f\"{blob.n_e_tot:.2e}\")\n",
    "print(\"total energy in electrons:\", f\"{blob.W_e:.2e}\")\n",
    "print(\"total energy in protons:\", f\"{blob.W_p:.2e}\")"
   ]
  },
  {
   "cell_type": "markdown",
   "id": "021b8ca3",
   "metadata": {},
   "source": [
    "The energy density of the electrons, $u_{\\rm e}\\,[{\\rm erg}\\,{\\rm cm}^{-3}]$, and the energy density in the magnetic field, $U_B\\,[{\\rm erg}\\,{\\rm cm}^{-3}]$, are very important as they allow us to check the energy content in particles and magnetic fields. They are defined as:\n",
    "\n",
    "$$U_B = B^2 / (8\\pi),$$\n",
    "\n",
    "and \n",
    "\n",
    "$$u_{\\rm e} = m_{\\rm e}c^2 \\int_{\\gamma_{\\rm min}}^{\\gamma_{\\rm max}}{\\rm d}\\gamma\\,\\gamma\\,n_{\\rm e}(\\gamma).$$\n",
    "\n",
    "They are very useful for calculating the jet power in  kinetic energy of the particles $P_{\\rm jet, ke}$ and in magnetic field $P_{\\rm jet, B}$ (the power needed to expel a magnetic-field-laden plasma).\n",
    "They are defined as:\n",
    "\n",
    "$$P_{\\rm jet,\\, B} = 2 \\pi R_{\\rm b}^2 \\beta \\Gamma^2 c U_{B}$$\n",
    "\n",
    "$$P_{\\rm jet,\\, ke} = 2 \\pi R_{\\rm b}^2 \\beta \\Gamma^2 c u_{\\rm e}$$\n",
    "\n",
    "The equilibrium between these two quantities defines a condition known as **equipartition**."
   ]
  },
  {
   "cell_type": "code",
   "execution_count": null,
   "id": "2e5c9495",
   "metadata": {},
   "outputs": [],
   "source": [
    "blob.P_jet_ke"
   ]
  },
  {
   "cell_type": "code",
   "execution_count": null,
   "id": "77acd4c1",
   "metadata": {},
   "outputs": [],
   "source": [
    "blob.P_jet_B"
   ]
  },
  {
   "cell_type": "markdown",
   "id": "cce15fe0",
   "metadata": {},
   "source": [
    "## Exercises Section 6.1\n",
    "### Exercise 6.1.1\n",
    "Consider a blob of radius $R_b = 10^{17}\\,{\\rm cm}$, streaming along a jet with a Doppler factor $\\delta_{\\rm D}=20$ and bulk Lorentz factor $\\Gamma=15$, in a galaxy sitting at redshift $z=0.5$. The blob is accelerating a power law of electrons with spectral index $p=2$, with Lorentz factors $\\gamma_{\\rm min} = 10$ and $\\gamma_{\\rm max} = 10^6$. Consider that the magnetic field is $0.1\\,{\\rm G}$. Set the normalisation of the electrons, $k$, such that the energy density of the electrons, $u_{\\rm e}$, and the energy density in the magnetic field, $U_B$, are the same.\n",
    "\n",
    "After you define the blob, you can access these quantities from the blob instance with `blob.U_B` and `blob.u_e`.\n",
    "\n",
    "Is the jet at equipartition?"
   ]
  }
 ],
 "metadata": {
  "kernelspec": {
   "display_name": "Python 3 (ipykernel)",
   "language": "python",
   "name": "python3"
  },
  "language_info": {
   "codemirror_mode": {
    "name": "ipython",
    "version": 3
   },
   "file_extension": ".py",
   "mimetype": "text/x-python",
   "name": "python",
   "nbconvert_exporter": "python",
   "pygments_lexer": "ipython3",
   "version": "3.9.18"
  }
 },
 "nbformat": 4,
 "nbformat_minor": 5
}
