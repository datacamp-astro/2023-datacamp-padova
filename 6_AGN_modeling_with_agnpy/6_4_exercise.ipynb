{
 "cells": [
  {
   "cell_type": "markdown",
   "id": "83f21516",
   "metadata": {},
   "source": [
    "# 6.4 Exercise\n",
    "\n",
    "Using the Italian's space agency [SED builder](https://tools.ssdc.asi.it/SED/), build the SED of the source 1ES1215+303. Download the data and use the function in this notebook to convert the file into an `astropy.table`. Plot the SED with the fluxes and the errors (`plt.errorbar`). Use the information you can find online on the source (e.g. redshift, ...) and `agnpy` to make a tentative SSC model that describes the data."
   ]
  },
  {
   "cell_type": "code",
   "execution_count": null,
   "id": "e9092b04",
   "metadata": {},
   "outputs": [],
   "source": [
    "import numpy as np\n",
    "import astropy.units as u\n",
    "from astropy.table import Table\n",
    "from astropy.io import fits\n",
    "import matplotlib.pyplot as plt"
   ]
  },
  {
   "cell_type": "code",
   "execution_count": null,
   "id": "a96e5fe6",
   "metadata": {},
   "outputs": [],
   "source": [
    "def convert_asdc_sed_to_table(filename):\n",
    "    \"\"\"Convert a .txt file containing the ASDC SED builder format to an astropy table with the agnpy format\"\"\"\n",
    "    with open(filename) as f:\n",
    "        contents = f.readlines()\n",
    "\n",
    "        # substring identifying the line where a new instrument\n",
    "        # dataset is starting\n",
    "        substring = \" (id =\"\n",
    "\n",
    "        nu = []\n",
    "        nuFnu = []\n",
    "        nuFnu_err = []\n",
    "        instrument = []\n",
    "\n",
    "        # first four rows are coordinates, redshift and H density\n",
    "        for content in contents[4:]:\n",
    "            if substring in content:\n",
    "                name = content.split(substring)[0].strip(\"# \")\n",
    "            if (\n",
    "                not content.startswith(\"#\")\n",
    "                and substring not in content\n",
    "                and \"UPPER LIMIT\" not in content\n",
    "            ):\n",
    "                values = [float(_) for _ in content.split()]\n",
    "                nu.append(values[0])\n",
    "                nuFnu.append(values[2])\n",
    "                nuFnu_err.append(values[3])\n",
    "                # there might be repeated measurements by the same instruments\n",
    "                # or a LC?\n",
    "                # so append the MJD START and STOP to the name\n",
    "                if values[4] > 0 and values[5] > 0:\n",
    "                    instrument.append(name + f\" MJD_START_{values[4]}_STOP_{values[5]}\")\n",
    "                else:\n",
    "                    instrument.append(name)\n",
    "\n",
    "    # convert units\n",
    "    nu *= u.Hz\n",
    "    nuFnu *= u.Unit(\"erg cm-2 s-1\")\n",
    "    nuFnu_err *= u.Unit(\"erg cm-2 s-1\")\n",
    "\n",
    "    e_ref = nu.to(\"eV\", equivalencies=u.spectral())\n",
    "\n",
    "    tab = Table(\n",
    "        [e_ref, nuFnu, nuFnu_err, nuFnu_err, instrument],\n",
    "        names=[\"e_ref\", \"e2dnde\", \"e2dnde_errn\", \"e2dnde_errp\", \"instrument\"],\n",
    "    )\n",
    "    return tab"
   ]
  }
 ],
 "metadata": {
  "kernelspec": {
   "display_name": "Python 3 (ipykernel)",
   "language": "python",
   "name": "python3"
  },
  "language_info": {
   "codemirror_mode": {
    "name": "ipython",
    "version": 3
   },
   "file_extension": ".py",
   "mimetype": "text/x-python",
   "name": "python",
   "nbconvert_exporter": "python",
   "pygments_lexer": "ipython3",
   "version": "3.9.18"
  }
 },
 "nbformat": 4,
 "nbformat_minor": 5
}
