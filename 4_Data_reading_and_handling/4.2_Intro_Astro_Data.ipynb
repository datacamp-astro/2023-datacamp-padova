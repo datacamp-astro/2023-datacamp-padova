{
 "cells": [
  {
   "cell_type": "markdown",
   "metadata": {},
   "source": [
    "# Hands On Data in Astronomy Pt. 2\n",
    "\n",
    "In this second part we will lear how to load the data, look into the events, define On and Off regions to ectract the signal and finally estimate the flux in energy"
   ]
  },
  {
   "cell_type": "markdown",
   "metadata": {},
   "source": [
    "## Table of contents\n",
    " - [0. Setup](#0.-Setup)\n",
    " - [1. Select Data Sample](#1.-Select-Data-Sample)\n",
    " - [2. Observation Info: Time, Azimuth and Altitude](#2.-Observation-Info:-Time,-Azimuth-and-Altitude)\n",
    " - [3. A first look into the events](#3.-A-first-look-into-the-events)\n",
    " - [4. Source and pointing position](#4.Source-and-pointing-position)\n",
    " - [5. On and Off regions](#5.-On-and-Off-regions)\n",
    " - [6. Event selection](#6.-Event-selection)\n",
    " - [7. Signal extraction](#7.-Signal-extraction)\n",
    " - [8. Li&Ma significance for excess counts](#8.-Li&Ma-significance-for-excess-counts)\n",
    " - [9. Flux in Energy](#9.-Flux-in-Energy)"
   ]
  },
  {
   "cell_type": "markdown",
   "metadata": {
    "jp-MarkdownHeadingCollapsed": true,
    "tags": []
   },
   "source": [
    "## 0. Setup"
   ]
  },
  {
   "cell_type": "code",
   "execution_count": null,
   "metadata": {},
   "outputs": [],
   "source": [
    "%matplotlib inline  \n",
    "import matplotlib.pyplot as plt"
   ]
  },
  {
   "cell_type": "code",
   "execution_count": null,
   "metadata": {},
   "outputs": [],
   "source": [
    "import numpy as np\n",
    "import astropy\n",
    "import os\n",
    "print('numpy:', np.__version__)\n",
    "print('astropy:', astropy.__version__)"
   ]
  },
  {
   "cell_type": "code",
   "execution_count": null,
   "metadata": {},
   "outputs": [],
   "source": [
    "from astropy.table import Table\n",
    "from astropy.coordinates import SkyCoord, Angle\n",
    "from astropy import units as u\n",
    "from astropy.io import fits, ascii\n",
    "\n",
    "import glob"
   ]
  },
  {
   "cell_type": "markdown",
   "metadata": {},
   "source": [
    "To open the fits file we use `fits.open()` and just specify the filename as an argument:"
   ]
  },
  {
   "cell_type": "markdown",
   "metadata": {
    "jp-MarkdownHeadingCollapsed": true,
    "tags": []
   },
   "source": [
    "## 1. Select Data Sample"
   ]
  },
  {
   "cell_type": "code",
   "execution_count": null,
   "metadata": {},
   "outputs": [],
   "source": [
    "# Get the value of the environment variable\n",
    "\n",
    "gammapy_data_path = os.environ.get('GAMMAPY_DATA')\n",
    "if not gammapy_data_path:\n",
    "    raise ValueError(\"The GAMMAPY_DATA environment variable is not set!\")\n"
   ]
  },
  {
   "cell_type": "code",
   "execution_count": null,
   "metadata": {},
   "outputs": [],
   "source": [
    "!ls $gammapy_data_path"
   ]
  },
  {
   "cell_type": "code",
   "execution_count": null,
   "metadata": {},
   "outputs": [],
   "source": [
    "# Construct the full path to the FITS file\n",
    "\n",
    "# MAGIC: Crab Nebula\n",
    "# '$GAMMAPY_DATA/magic/rad_max/data/magic_dl3_run_05029748.fits'\n",
    "\n",
    "# MAGIC: NGC-1275\n",
    "# ./20170101_05059487_DL3_NGC1275-W0.40+157.fits\n",
    "\n",
    "# HESS: PKS 2155-304\n",
    "# $GAMMAPY_DATA/1.1/hess-dl3-dr1/data/hess_dl3_dr1_obs_id_023246.fits.gz\n",
    "\n",
    "# CTA: Galactic Plane Survey \n",
    "# '$GAMMAPY_DATA/1.1/cta-1dc/data/baseline/gps/gps_baseline_111630.fits'\n",
    "\n",
    "\n",
    "\n",
    "fits_file_path = os.path.join(gammapy_data_path, '1.1/magic/rad_max/data/20131004_05029748_DL3_CrabNebula-W0.40+215.fits')\n",
    "print(fits_file_path)"
   ]
  },
  {
   "cell_type": "code",
   "execution_count": null,
   "metadata": {},
   "outputs": [],
   "source": [
    "fits_file = fits.open(fits_file_path)\n",
    "#fits_file = fits.open('./20170101_05059487_DL3_NGC1275-W0.40+157.fits')"
   ]
  },
  {
   "cell_type": "markdown",
   "metadata": {},
   "source": [
    "We can retrieve some basic information on the  header data unit (HDU) by calling `.info()`:"
   ]
  },
  {
   "cell_type": "code",
   "execution_count": null,
   "metadata": {},
   "outputs": [],
   "source": [
    "fits_file.info()"
   ]
  },
  {
   "cell_type": "markdown",
   "metadata": {
    "jp-MarkdownHeadingCollapsed": true,
    "tags": []
   },
   "source": [
    "## 2. Observation Info: Time, Azimuth and Altitude"
   ]
  },
  {
   "cell_type": "code",
   "execution_count": null,
   "metadata": {},
   "outputs": [],
   "source": [
    "from astropy.coordinates import EarthLocation, AltAz\n",
    "from astropy.time import Time"
   ]
  },
  {
   "cell_type": "code",
   "execution_count": null,
   "metadata": {},
   "outputs": [],
   "source": [
    "events = fits_file['EVENTS']\n",
    "events.header"
   ]
  },
  {
   "cell_type": "code",
   "execution_count": null,
   "metadata": {},
   "outputs": [],
   "source": [
    "time_ref   = Time(events.header.get('MJDREFI') + events.header.get('MJDREFF'), format='mjd')\n",
    "print( time_ref.to_datetime() )"
   ]
  },
  {
   "cell_type": "code",
   "execution_count": null,
   "metadata": {},
   "outputs": [],
   "source": [
    "start_time = time_ref + events.header.get('TSTART')*u.s\n",
    "print(start_time.to_datetime() )"
   ]
  },
  {
   "cell_type": "code",
   "execution_count": null,
   "metadata": {},
   "outputs": [],
   "source": [
    "end_time = time_ref + events.header.get('TSTOP')*u.s\n",
    "print(end_time.to_datetime() )"
   ]
  },
  {
   "cell_type": "code",
   "execution_count": null,
   "metadata": {},
   "outputs": [],
   "source": [
    "deltaT = end_time - start_time\n",
    "deltaT.to(u.min)"
   ]
  },
  {
   "cell_type": "markdown",
   "metadata": {},
   "source": [
    "This is not necessary for the analysis, but it is interesting to see how the altitude and azimuth of the source evolves during the observation"
   ]
  },
  {
   "cell_type": "code",
   "execution_count": null,
   "metadata": {},
   "outputs": [],
   "source": [
    "ROM = EarthLocation( lat = 8.757163638  * u.deg, \n",
    "                     lon = 17.887329784 * u.deg, \n",
    "                  height = 2200 *u.m)\n",
    "print(ROM.geodetic)"
   ]
  },
  {
   "cell_type": "code",
   "execution_count": null,
   "metadata": {},
   "outputs": [],
   "source": [
    "source_name = events.header.get('OBJECT')\n",
    "print(source_name)\n",
    "source_pos   =  SkyCoord.from_name(events.header.get('OBJECT'))\n",
    "source_pos"
   ]
  },
  {
   "cell_type": "code",
   "execution_count": null,
   "metadata": {},
   "outputs": [],
   "source": [
    "dt = ( end_time - start_time ) /100\n",
    "times        = []\n",
    "source_altaz = []\n",
    "for i in range(100):\n",
    "    time        = start_time + dt*i\n",
    "    altaz        = AltAz(obstime=time, location=ROM)\n",
    "    i_source_altaz = source_pos.transform_to(altaz)\n",
    "    times.append( time )\n",
    "    source_altaz.append( i_source_altaz )\n",
    "    "
   ]
  },
  {
   "cell_type": "code",
   "execution_count": null,
   "metadata": {},
   "outputs": [],
   "source": [
    "all_alt = [  i.alt.value for i in source_altaz ]\n",
    "all_az  = [  i.az.value  for i in source_altaz ]"
   ]
  },
  {
   "cell_type": "code",
   "execution_count": null,
   "metadata": {},
   "outputs": [],
   "source": [
    "plt.plot(  all_az, all_alt)\n",
    "plt.xlabel( \"azimuth [deg.]\")\n",
    "plt.ylabel( \"altitute [deg.]\");"
   ]
  },
  {
   "cell_type": "markdown",
   "metadata": {
    "jp-MarkdownHeadingCollapsed": true,
    "tags": []
   },
   "source": [
    "## 3. A first look into the events"
   ]
  },
  {
   "cell_type": "code",
   "execution_count": null,
   "metadata": {},
   "outputs": [],
   "source": [
    "events_table = Table(events.data)\n",
    "events_table"
   ]
  },
  {
   "cell_type": "code",
   "execution_count": null,
   "metadata": {},
   "outputs": [],
   "source": [
    "energies = events_table['ENERGY']"
   ]
  },
  {
   "cell_type": "code",
   "execution_count": null,
   "metadata": {},
   "outputs": [],
   "source": [
    "binning = np.logspace(-2,1,20)\n",
    "plt.hist(energies,bins=binning,alpha=0.6,log=True)\n",
    "plt.xlabel('Energy [TeV]')\n",
    "plt.ylabel('Counts')\n",
    "plt.title('Energy distribution')\n",
    "plt.xscale('log')"
   ]
  },
  {
   "cell_type": "markdown",
   "metadata": {
    "jp-MarkdownHeadingCollapsed": true,
    "tags": []
   },
   "source": [
    "## 4. Source and pointing position"
   ]
  },
  {
   "cell_type": "code",
   "execution_count": null,
   "metadata": {},
   "outputs": [],
   "source": [
    "from astropy.visualization.wcsaxes import SphericalCircle\n",
    "from astropy.wcs import WCS"
   ]
  },
  {
   "cell_type": "markdown",
   "metadata": {},
   "source": [
    "First we get the pointing postion of the telescope"
   ]
  },
  {
   "cell_type": "code",
   "execution_count": null,
   "metadata": {},
   "outputs": [],
   "source": [
    "pointing_pos =  SkyCoord( events.header.get('RA_PNT') *u.deg,   events.header.get('DEC_PNT') *u.deg )\n",
    "pointing_pos"
   ]
  },
  {
   "cell_type": "markdown",
   "metadata": {},
   "source": [
    "Then the postion of the source on the sky"
   ]
  },
  {
   "cell_type": "code",
   "execution_count": null,
   "metadata": {},
   "outputs": [],
   "source": [
    "source_name = events.header.get('OBJECT')\n",
    "print(source_name)\n",
    "source_pos   =  SkyCoord.from_name(events.header.get('OBJECT'))\n",
    "source_pos"
   ]
  },
  {
   "cell_type": "markdown",
   "metadata": {},
   "source": [
    "As you can see the 2 position are not the same (Why?) \n",
    "\n",
    "let's compute the offset"
   ]
  },
  {
   "cell_type": "code",
   "execution_count": null,
   "metadata": {},
   "outputs": [],
   "source": [
    "offset = source_pos.separation(pointing_pos)\n",
    "offset.to( u.deg).value"
   ]
  },
  {
   "cell_type": "markdown",
   "metadata": {},
   "source": [
    "We now compute the angle between the source and the pointing position.\n",
    "\n",
    "If for instance the two are aligned along a meridian, the angle would be of 0 or 180 degrees, depending on which position one uses as a reference\n",
    "\n",
    "Let's see it in detail:"
   ]
  },
  {
   "cell_type": "code",
   "execution_count": null,
   "metadata": {},
   "outputs": [],
   "source": [
    "A =  SkyCoord( ra= 10 *u.deg,   dec = 10 *u.deg )\n",
    "B =  SkyCoord( ra= 10 *u.deg,   dec = 20 *u.deg )\n",
    "\n",
    "fig, ax =  plt.subplots(figsize=(3,3))\n",
    "\n",
    "ax = plt.subplot()\n",
    "ax.scatter(A.ra.value, A.dec.value, marker='o', s=100, c='blue', label ='A'  ) \n",
    "ax.scatter(B.ra.value, B.dec.value, marker='o', s=100, c='black', label ='B'  ) \n",
    "ax.set_xlabel('Right ascension')\n",
    "ax.set_ylabel('Declination')\n",
    "ax.legend();"
   ]
  },
  {
   "cell_type": "code",
   "execution_count": null,
   "metadata": {},
   "outputs": [],
   "source": [
    "A.position_angle(B).to(u.degree)"
   ]
  },
  {
   "cell_type": "markdown",
   "metadata": {},
   "source": [
    "The angle between A and B is zero!"
   ]
  },
  {
   "cell_type": "code",
   "execution_count": null,
   "metadata": {},
   "outputs": [],
   "source": [
    "B.position_angle(A).to(u.degree)"
   ]
  },
  {
   "cell_type": "markdown",
   "metadata": {},
   "source": [
    "The angle between A and B is instead 180"
   ]
  },
  {
   "cell_type": "markdown",
   "metadata": {},
   "source": [
    "Excercise:\n",
    "- Try different position for A and B and get the angle"
   ]
  },
  {
   "cell_type": "markdown",
   "metadata": {},
   "source": [
    "Let's do this now for the source and pointing position"
   ]
  },
  {
   "cell_type": "code",
   "execution_count": null,
   "metadata": {},
   "outputs": [],
   "source": [
    "source_angle = pointing_pos.position_angle(source_pos).to(u.degree)\n",
    "source_angle"
   ]
  },
  {
   "cell_type": "code",
   "execution_count": null,
   "metadata": {},
   "outputs": [],
   "source": [
    "fig, ax =  plt.subplots(figsize=(3,3))\n",
    "\n",
    "ax = plt.subplot()\n",
    "ax.scatter(pointing_pos.ra.value, pointing_pos.dec.value, marker='x', s=100, c='black', label ='Pointing'  ) \n",
    "ax.scatter(source_pos.ra.value, source_pos.dec.value, marker='*', s=100, c='red', label ='Source'  ) \n",
    "ax.set_xlabel('Right ascension')\n",
    "ax.set_ylabel('Declination')\n",
    "ax.legend();"
   ]
  },
  {
   "cell_type": "markdown",
   "metadata": {
    "jp-MarkdownHeadingCollapsed": true,
    "tags": []
   },
   "source": [
    "## 5. On and Off regions"
   ]
  },
  {
   "cell_type": "markdown",
   "metadata": {},
   "source": [
    "Let's now compute the angles for the off positions"
   ]
  },
  {
   "cell_type": "code",
   "execution_count": null,
   "metadata": {},
   "outputs": [],
   "source": [
    "off1_angle   = source_angle + 90*u.deg\n",
    "off2_angle   = off1_angle   + 90*u.deg\n",
    "off3_angle   = off2_angle   + 90*u.deg"
   ]
  },
  {
   "cell_type": "markdown",
   "metadata": {},
   "source": [
    "Given the above angles, we now put the off positions on the same offset from the pointing that was used for the source"
   ]
  },
  {
   "cell_type": "code",
   "execution_count": null,
   "metadata": {},
   "outputs": [],
   "source": [
    "off1_pos = pointing_pos.directional_offset_by(position_angle=off1_angle, separation=offset)  \n",
    "off2_pos = pointing_pos.directional_offset_by(position_angle=off2_angle, separation=offset)  \n",
    "off3_pos = pointing_pos.directional_offset_by(position_angle=off3_angle, separation=offset) "
   ]
  },
  {
   "cell_type": "markdown",
   "metadata": {},
   "source": [
    "We can now see the results"
   ]
  },
  {
   "cell_type": "code",
   "execution_count": null,
   "metadata": {},
   "outputs": [],
   "source": [
    "fig, ax =  plt.subplots(figsize=(9,9))\n",
    "\n",
    "ax = plt.subplot()\n",
    "\n",
    "\n",
    "field_of_view = SphericalCircle( (pointing_pos.ra, pointing_pos.dec),\n",
    "                    3.5 * u.deg,   edgecolor='black', facecolor='none')\n",
    "\n",
    "ax.add_patch(field_of_view)\n",
    "\n",
    "ax.scatter(pointing_pos.ra.value, pointing_pos.dec.value, marker='x', s=100, c='black', label ='Pointing'  ) \n",
    "ax.scatter(source_pos.ra.value, source_pos.dec.value, marker='*', s=100, c='red', label ='Source'  ) \n",
    "ax.scatter(off1_pos.ra.value, off1_pos.dec.value, marker='o', s=20, c='blue', label ='OFF 1'  ) \n",
    "ax.scatter(off2_pos.ra.value, off2_pos.dec.value, marker='o', s=20, c='orange', label ='OFF 2'  ) \n",
    "ax.scatter(off3_pos.ra.value, off3_pos.dec.value, marker='o', s=20, c='green', label ='OFF 3'  ) \n",
    "ax.legend(loc='upper right');"
   ]
  },
  {
   "cell_type": "markdown",
   "metadata": {},
   "source": [
    "Or even better we can plot the On and Off regions"
   ]
  },
  {
   "cell_type": "code",
   "execution_count": null,
   "metadata": {},
   "outputs": [],
   "source": [
    "fig, ax =  plt.subplots(figsize=(9,9))\n",
    "\n",
    "ax = plt.subplot()\n",
    "\n",
    "\n",
    "\n",
    "\n",
    "field_of_view = SphericalCircle( (pointing_pos.ra, pointing_pos.dec),\n",
    "                    3.5 * u.deg,   edgecolor='black', facecolor='none')\n",
    "\n",
    "radius = 0.1414213*u.deg\n",
    "\n",
    "on  = SphericalCircle( (source_pos.ra, source_pos.dec),\n",
    "                    radius,   edgecolor='black', facecolor='none')\n",
    "\n",
    "off1 = SphericalCircle( (off1_pos.ra, off1_pos.dec),\n",
    "                    radius,   edgecolor='black', facecolor='none')\n",
    "off2 = SphericalCircle( (off2_pos.ra, off2_pos.dec),\n",
    "                    radius,   edgecolor='black', facecolor='none')\n",
    "off3 = SphericalCircle( (off3_pos.ra, off3_pos.dec),\n",
    "                    radius,   edgecolor='black', facecolor='none')\n",
    "\n",
    "\n",
    "ax.scatter(pointing_pos.ra.value, pointing_pos.dec.value, marker='x', s=100, c='black', label ='Pointing'  ) \n",
    "ax.scatter(source_pos.ra.value, source_pos.dec.value, marker='*', s=100, c='red', label ='Source'  ) \n",
    "\n",
    "ax.add_patch(field_of_view)\n",
    "\n",
    "ax.add_patch(on)\n",
    "ax.add_patch(off1)\n",
    "ax.add_patch(off2)\n",
    "ax.add_patch(off3)\n",
    "\n",
    "\n",
    "ax.legend();"
   ]
  },
  {
   "cell_type": "markdown",
   "metadata": {
    "jp-MarkdownHeadingCollapsed": true,
    "tags": []
   },
   "source": [
    "## 6. Event selection"
   ]
  },
  {
   "cell_type": "markdown",
   "metadata": {},
   "source": [
    "We save the evtns as an Astropy Table"
   ]
  },
  {
   "cell_type": "markdown",
   "metadata": {},
   "source": [
    "We then plot them \"on the Sky\" using the information on the RA and DEC of each single event"
   ]
  },
  {
   "cell_type": "code",
   "execution_count": null,
   "metadata": {},
   "outputs": [],
   "source": [
    "fig, ax =  plt.subplots(figsize=(9,9))\n",
    "\n",
    "ax = fig.add_subplot()\n",
    "\n",
    "ra =    events_table['RA'] * u.deg  \n",
    "\n",
    "dec = events_table['DEC']*u.deg\n",
    "\n",
    "ax.scatter(ra, dec, s=0.1)\n",
    "\n",
    "\n",
    "radius = 0.2*u.deg\n",
    "\n",
    "on  = SphericalCircle( (source_pos.ra, source_pos.dec),\n",
    "                    radius,   edgecolor='black', facecolor='none')\n",
    "\n",
    "off1 = SphericalCircle( (off1_pos.ra, off1_pos.dec),\n",
    "                    radius,   edgecolor='black', facecolor='none')\n",
    "off2 = SphericalCircle( (off2_pos.ra, off2_pos.dec),\n",
    "                    radius,   edgecolor='black', facecolor='none')\n",
    "off3 = SphericalCircle( (off3_pos.ra, off3_pos.dec),\n",
    "                    radius,   edgecolor='black', facecolor='none')\n",
    "\n",
    "\n",
    "ax.scatter(pointing_pos.ra.value, pointing_pos.dec.value, marker='x', s=100, c='black', label ='Pointing'  ) \n",
    "ax.scatter(source_pos.ra.value, source_pos.dec.value, marker='*', s=100, c='red', label ='Source'  ) \n",
    "\n",
    "ax.add_patch(on)\n",
    "ax.add_patch(off1)\n",
    "ax.add_patch(off2)\n",
    "ax.add_patch(off3)\n",
    "\n",
    "#ax.set_xlim([47,52])\n",
    "#ax.set_ylim([40.1,43.7])\n",
    "\n",
    "\n",
    "ax.legend();"
   ]
  },
  {
   "cell_type": "markdown",
   "metadata": {},
   "source": [
    "As expected we have more events near the Source!\n",
    "\n",
    "As one can see from the OFF regions, some of these events are not gamma-rays, but background\n",
    "\n",
    "Rember that in the Off region we should not expect any gamma-ray"
   ]
  },
  {
   "cell_type": "markdown",
   "metadata": {},
   "source": [
    "We now select the events in the 4 regions: 1 ON and 3 OFF"
   ]
  },
  {
   "cell_type": "code",
   "execution_count": null,
   "metadata": {},
   "outputs": [],
   "source": [
    "ra = events_table['RA'] \n",
    "dec = events_table['DEC']\n",
    "\n",
    "radius = 0.2*u.deg \n",
    "\n",
    "cond_on = []\n",
    "for i_ra,i_dec in zip(ra,dec):\n",
    "    position_event = SkyCoord(  i_ra * u.deg, i_dec * u.deg, frame='icrs')\n",
    "\n",
    "    cond_on.append( source_pos.separation(position_event) <= radius )\n",
    "    \n",
    "cond_off1 = []\n",
    "for i_ra,i_dec in zip(ra,dec):\n",
    "    position_event = SkyCoord(  i_ra * u.deg, i_dec * u.deg, frame='icrs')\n",
    "\n",
    "    cond_off1.append( off1_pos.separation(position_event) <= radius )\n",
    "    \n",
    "cond_off2 = []\n",
    "for i_ra,i_dec in zip(ra,dec):\n",
    "    position_event = SkyCoord(  i_ra * u.deg, i_dec * u.deg, frame='icrs')\n",
    "\n",
    "    cond_off2.append( off2_pos.separation(position_event) <= radius )\n",
    "    \n",
    "\n",
    "cond_off3 = []\n",
    "for i_ra,i_dec in zip(ra,dec):\n",
    "    position_event = SkyCoord(  i_ra * u.deg, i_dec * u.deg, frame='icrs')\n",
    "\n",
    "    cond_off3.append( off3_pos.separation(position_event) <= radius )\n",
    "    \n",
    "    "
   ]
  },
  {
   "cell_type": "markdown",
   "metadata": {},
   "source": [
    "Let's plot the events we have selected"
   ]
  },
  {
   "cell_type": "code",
   "execution_count": null,
   "metadata": {},
   "outputs": [],
   "source": [
    "fig, ax =  plt.subplots(figsize=(9,9))\n",
    "\n",
    "ax = fig.add_subplot()\n",
    "\n",
    "ra = events_table[cond_on]['RA']\n",
    "dec = events_table[cond_on]['DEC']\n",
    "ax.scatter(ra, dec, s=0.5)\n",
    "\n",
    "ra = events_table[cond_off1]['RA'] \n",
    "dec = events_table[cond_off1]['DEC']\n",
    "ax.scatter(ra, dec, s=0.5, c ='black')\n",
    "\n",
    "ra = events_table[cond_off2]['RA'] \n",
    "dec = events_table[cond_off2]['DEC']\n",
    "ax.scatter(ra, dec, s=0.5,  c ='black')\n",
    "\n",
    "ra = events_table[cond_off3]['RA'] \n",
    "dec = events_table[cond_off3]['DEC']\n",
    "ax.scatter(ra, dec, s=0.5,  c ='black')\n",
    "\n",
    "\n",
    "\n",
    "ax.scatter(pointing_pos.ra.value, pointing_pos.dec.value, marker='x', s=100, c='black', label ='Pointing'  ) \n",
    "ax.scatter(source_pos.ra.value, source_pos.dec.value, marker='*', s=100, c='red', label ='Source'  ) \n",
    "\n",
    "radius = 0.2*u.deg\n",
    "\n",
    "on  = SphericalCircle( (source_pos.ra, source_pos.dec),\n",
    "                    radius,   edgecolor='black', facecolor='none')\n",
    "\n",
    "off1 = SphericalCircle( (off1_pos.ra, off1_pos.dec),\n",
    "                    radius,   edgecolor='black', facecolor='none')\n",
    "off2 = SphericalCircle( (off2_pos.ra, off2_pos.dec),\n",
    "                    radius,   edgecolor='black', facecolor='none')\n",
    "off3 = SphericalCircle( (off3_pos.ra, off3_pos.dec),\n",
    "                    radius,   edgecolor='black', facecolor='none')\n",
    "\n",
    "\n",
    "ax.add_patch(on)\n",
    "ax.add_patch(off1)\n",
    "ax.add_patch(off2)\n",
    "ax.add_patch(off3)\n",
    "\n",
    "\n",
    "\n",
    "ax.legend();"
   ]
  },
  {
   "cell_type": "code",
   "execution_count": null,
   "metadata": {},
   "outputs": [],
   "source": [
    "theta2_on = []\n",
    "\n",
    "ra = events_table['RA'][cond_on]\n",
    "dec = events_table['DEC'][cond_on]\n",
    "\n",
    "\n",
    "for i_ra,i_dec in zip(ra,dec):\n",
    "    position_event = SkyCoord(  i_ra * u.deg, i_dec * u.deg, frame='icrs')\n",
    "    \n",
    "    theta2 = source_pos.separation(position_event)**2\n",
    "    # save the value in degree sqaured\n",
    "    theta2 = theta2.to(u.deg**2).value\n",
    "\n",
    "    theta2_on.append( theta2)\n",
    "\n",
    "\n",
    "theta2_off = []\n",
    "\n",
    "ra = events_table['RA'][cond_off1]\n",
    "dec = events_table['DEC'][cond_off1 ]\n",
    "\n",
    "for i_ra,i_dec in zip(ra,dec):\n",
    "    position_event = SkyCoord(  i_ra * u.deg, i_dec * u.deg, frame='icrs')\n",
    "    \n",
    "    theta2 = off1_pos.separation(position_event)**2\n",
    "    # save the value in degree sqaured\n",
    "    theta2 = theta2.to(u.deg**2).value\n",
    "\n",
    "    theta2_off.append( theta2)\n",
    "    \n",
    "ra = events_table['RA'][cond_off2]\n",
    "dec = events_table['DEC'][cond_off2 ]\n",
    "\n",
    "for i_ra,i_dec in zip(ra,dec):\n",
    "    position_event = SkyCoord(  i_ra * u.deg, i_dec * u.deg, frame='icrs')\n",
    "    \n",
    "    theta2 = off2_pos.separation(position_event)**2\n",
    "    # save the value in degree sqaured\n",
    "    theta2 = theta2.to(u.deg**2).value\n",
    "\n",
    "    theta2_off.append( theta2)\n",
    "    \n",
    "\n",
    "ra = events_table['RA'][cond_off3]\n",
    "dec = events_table['DEC'][cond_off3 ]\n",
    "\n",
    "for i_ra,i_dec in zip(ra,dec):\n",
    "    position_event = SkyCoord(  i_ra * u.deg, i_dec * u.deg, frame='icrs')\n",
    "    \n",
    "    theta2 = off3_pos.separation(position_event)**2\n",
    "    # save the value in degree sqaured\n",
    "    theta2 = theta2.to(u.deg**2).value\n",
    "\n",
    "    theta2_off.append( theta2)\n",
    "    \n"
   ]
  },
  {
   "cell_type": "code",
   "execution_count": null,
   "metadata": {},
   "outputs": [],
   "source": [
    "plt.hist(theta2_on,bins=20,density=True,alpha=0.5,label='ON events');\n",
    "plt.hist(theta2_off,bins=20,density=True,alpha=0.5, label='OFF events');\n",
    "plt.legend();\n",
    "plt.xlabel(r'$\\theta^2$')"
   ]
  },
  {
   "cell_type": "code",
   "execution_count": null,
   "metadata": {},
   "outputs": [],
   "source": [
    "#gammaness_on = events_table['GAMMANESS'][cond_on]\n",
    "\n",
    "#gammaness_off = events_table['GAMMANESS'][np.array(cond_off1)+np.array(cond_off2)+np.array(cond_off3)]\n",
    "\n",
    "#plt.hist(gammaness_on,bins=20,density=True,alpha=0.5,label='ON events');\n",
    "#plt.hist(gammaness_off,bins=20,density=True,alpha=0.5, label='OFF events');\n",
    "#plt.legend();\n",
    "#plt.xlabel(r'Gammaness')"
   ]
  },
  {
   "cell_type": "markdown",
   "metadata": {
    "jp-MarkdownHeadingCollapsed": true,
    "tags": []
   },
   "source": [
    "## 7. Signal extraction"
   ]
  },
  {
   "cell_type": "markdown",
   "metadata": {},
   "source": [
    "Total excess"
   ]
  },
  {
   "cell_type": "code",
   "execution_count": null,
   "metadata": {},
   "outputs": [],
   "source": [
    "non    = np.sum( cond_on)\n",
    "\n",
    "noff   = np.sum( cond_off1) +\\\n",
    "         np.sum( cond_off2) +\\\n",
    "         np.sum( cond_off3) \n",
    "\n",
    "\n",
    "\n",
    "excess =  non - noff/3 \n",
    "print(excess)\n",
    "\n",
    "err_excess =  np.sqrt( non + (1/3)**2*noff) \n",
    "print(err_excess)"
   ]
  },
  {
   "cell_type": "markdown",
   "metadata": {},
   "source": [
    "We now want the excess in each energy bin\n",
    "\n",
    "We might define a custom energy binning, but it is better to use the one in the effective area"
   ]
  },
  {
   "cell_type": "code",
   "execution_count": null,
   "metadata": {},
   "outputs": [],
   "source": [
    "eff_area = fits_file['EFFECTIVE AREA']\n",
    "#eff_area = fits_file['AEFF']\n",
    "eff_area.header"
   ]
  },
  {
   "cell_type": "code",
   "execution_count": null,
   "metadata": {},
   "outputs": [],
   "source": [
    "effective_area = Table( eff_area.data)\n",
    "\n",
    "theta_low  = np.array( effective_area['THETA_LO'] )[0]\n",
    "theta_high = np.array( effective_area['THETA_HI'] )[0]\n",
    "\n",
    "en_low     = np.array( effective_area['ENERG_LO'] )[0]\n",
    "en_high    = np.array( effective_area['ENERG_HI'] )[0]\n",
    "en_center = np.sqrt( en_low * en_high )\n",
    "delta_E  = (en_high - en_low)\n",
    "\n",
    "eff_area   = np.array( effective_area['EFFAREA'] )[0][0]"
   ]
  },
  {
   "cell_type": "code",
   "execution_count": null,
   "metadata": {},
   "outputs": [],
   "source": [
    "fig, ax = plt.subplots(figsize=(10,6),nrows=1, ncols=1)\n",
    "\n",
    "ax.scatter(en_center,  eff_area)\n",
    "\n",
    "\n",
    "ax.set_xlabel( ' Energy / TeV')\n",
    "ax.set_ylabel( ' Area / m^2')\n",
    "ax.set_xscale('log')\n",
    "ax.set_yscale('log')"
   ]
  },
  {
   "cell_type": "markdown",
   "metadata": {},
   "source": [
    "Finallt we can compute the excess per energy bin"
   ]
  },
  {
   "cell_type": "code",
   "execution_count": null,
   "metadata": {},
   "outputs": [],
   "source": [
    "excess = [] \n",
    "err_excess = []\n",
    "\n",
    "noff_list = []\n",
    "non_list  = []\n",
    "\n",
    "for i_en_low, i_en_high in zip( en_low, en_high):\n",
    "    cond_low  = events_table['ENERGY'] >= i_en_low\n",
    "    cond_high = events_table['ENERGY']  < i_en_high\n",
    "    cond_en   = cond_low* cond_high\n",
    "    \n",
    "    non    = np.sum( cond_en*cond_on)\n",
    "    \n",
    "    noff   = np.sum( cond_en*cond_off1) +\\\n",
    "             np.sum( cond_en*cond_off2) +\\\n",
    "             np.sum( cond_en*cond_off3) \n",
    "    \n",
    "    noff_list.append(noff)\n",
    "    non_list.append(non)\n",
    "    \n",
    "    excess.append( non - noff/3 )\n",
    "    err_excess.append( np.sqrt( non + (1/3)**2*noff) )\n",
    "    \n",
    "excess     = np.array(excess)\n",
    "err_excess = np.array(err_excess)\n",
    "\n",
    "non_list   = np.array(non_list)\n",
    "noff_list   = np.array(noff_list)"
   ]
  },
  {
   "cell_type": "markdown",
   "metadata": {},
   "source": [
    "Why did I put in the loop `non - noff/3` and not another number like for instance  `non - noff/5` ?"
   ]
  },
  {
   "cell_type": "markdown",
   "metadata": {},
   "source": [
    "Total Non events in each energy bin"
   ]
  },
  {
   "cell_type": "code",
   "execution_count": null,
   "metadata": {},
   "outputs": [],
   "source": [
    "print(non_list)"
   ]
  },
  {
   "cell_type": "markdown",
   "metadata": {},
   "source": [
    "Total Noff events in each energy bin"
   ]
  },
  {
   "cell_type": "code",
   "execution_count": null,
   "metadata": {},
   "outputs": [],
   "source": [
    "print(noff_list)"
   ]
  },
  {
   "cell_type": "markdown",
   "metadata": {},
   "source": [
    "Excess in each energy bin"
   ]
  },
  {
   "cell_type": "code",
   "execution_count": null,
   "metadata": {},
   "outputs": [],
   "source": [
    "print(excess)"
   ]
  },
  {
   "cell_type": "markdown",
   "metadata": {},
   "source": [
    "Excercise\n",
    "- Compute the Li&Ma significance for each energy bin using the value of Non and Noff computed (remeber that we are also using $\\alpha$ = 1/3)"
   ]
  },
  {
   "cell_type": "code",
   "execution_count": null,
   "metadata": {},
   "outputs": [],
   "source": [
    "fig, ax = plt.subplots(figsize=(10,6),nrows=1, ncols=1)\n",
    "\n",
    "\n",
    "ax.errorbar(x=en_center, y=non_list, yerr=np.sqrt(non_list) , xerr = delta_E/2 , c='black', capsize=2, fmt='o')\n",
    "\n",
    "ax.set_xlabel( ' Energy / TeV')\n",
    "ax.set_ylabel( r'On events  $N_{on}$')\n",
    "ax.set_xscale('log')\n",
    "ax.set_yscale('log')"
   ]
  },
  {
   "cell_type": "code",
   "execution_count": null,
   "metadata": {},
   "outputs": [],
   "source": [
    "fig, ax = plt.subplots(figsize=(10,6),nrows=1, ncols=1)\n",
    "\n",
    "\n",
    "ax.errorbar(x=en_center, y=noff_list, yerr=np.sqrt(noff_list) , xerr = delta_E/2 , c='black', capsize=2, fmt='o')\n",
    "\n",
    "ax.set_xlabel( ' Energy / TeV')\n",
    "ax.set_ylabel( r'Off events  $N_{off}$')\n",
    "ax.set_xscale('log')\n",
    "ax.set_yscale('log')"
   ]
  },
  {
   "cell_type": "code",
   "execution_count": null,
   "metadata": {},
   "outputs": [],
   "source": [
    "fig, ax = plt.subplots(figsize=(10,6),nrows=1, ncols=1)\n",
    "\n",
    "\n",
    "ax.errorbar(x=en_center, y=excess, yerr=err_excess , xerr = delta_E/2 , c='black', capsize=2, fmt='o')\n",
    "\n",
    "ax.set_xlabel( ' Energy / TeV')\n",
    "ax.set_ylabel( ' Excess events')\n",
    "ax.set_xscale('log')\n",
    "ax.set_yscale('log')"
   ]
  },
  {
   "cell_type": "markdown",
   "metadata": {
    "jp-MarkdownHeadingCollapsed": true,
    "tags": []
   },
   "source": [
    "## 8. Li&Ma significance for excess counts"
   ]
  },
  {
   "cell_type": "markdown",
   "metadata": {},
   "source": [
    "We firts define a function that gives us the Li&Ma significance given the On and off counts ( $\\alpha$ the normalization between the On and Off region)\n",
    "\n",
    "$ \\pm \\sqrt{2}  \\left[  \n",
    "   N_{on} \\log\\left( \\frac{1 }{\\alpha} \\frac{(\\alpha +1) N_{on}}{N_{on} + N_{off}} \\right)  +\n",
    "    N_{off} \\log\\left(  \\frac{(\\alpha +1 ) N_{off}}{N_{on} + N_{off}} \\right) \\right]^{1/2}\n",
    "$"
   ]
  },
  {
   "cell_type": "code",
   "execution_count": null,
   "metadata": {},
   "outputs": [],
   "source": [
    "def log_likelihood_ratio(s, Non, Noff, a):\n",
    "    # we firts get the b that maximez the likelihood\n",
    "    N     = Non + Noff - (1+1/a) *s\n",
    "    b     = (N + np.sqrt( N**2  + 4* (1+1/a) *s*Noff ))/(2+2*a)\n",
    "    \n",
    "    # Now we can compute the tree terms of the likelihood\n",
    "    if Non == 0:\n",
    "        term1 = np.zeros_like(s)\n",
    "    else:\n",
    "        term1 = Non*np.log( Non/(s + a*b)  )\n",
    "\n",
    "    if Noff == 0:\n",
    "        term2 = np.zeros_like(s)\n",
    "    else:\n",
    "        term2 = Noff*np.log( Noff/b  )\n",
    " \n",
    "    term3 = s + (1+a)*b - Non - Noff\n",
    "    \n",
    "    return 2*(term1 + term2 + term3)\n",
    "\n",
    "\n",
    "def li_ma_significance( Non, Noff, a):\n",
    "    \"\"\"\n",
    "    Compute the Li & Ma significance.\n",
    "    \n",
    "    Parameters:\n",
    "        - N_on: counts in the ON region.\n",
    "        - N_off: counts in the OFF region.\n",
    "        - alpha: ratio between the ON and OFF region.\n",
    "    \n",
    "    Returns:\n",
    "        - Significance value.\n",
    "    \"\"\"\n",
    "    plus_or_minus = np.sign( Non - a*Noff)\n",
    "    log_lkl_null  = log_likelihood_ratio( s=0, Non=Non, Noff=Noff, a=a)\n",
    "    return plus_or_minus * np.sqrt( log_lkl_null)\n"
   ]
  },
  {
   "cell_type": "code",
   "execution_count": null,
   "metadata": {},
   "outputs": [],
   "source": [
    "alpha = 1/3\n",
    "\n",
    "LiMa_list = []\n",
    "for i_non, i_noff in zip(non_list, noff_list):\n",
    "    \n",
    "    if (i_non == 0) and (i_noff == 0):\n",
    "        LiMa = 0\n",
    "    else:\n",
    "        LiMa = li_ma_significance(i_non, i_noff, alpha)\n",
    "    \n",
    "    LiMa_list.append( LiMa )\n",
    "    \n",
    "    \n",
    "    "
   ]
  },
  {
   "cell_type": "code",
   "execution_count": null,
   "metadata": {},
   "outputs": [],
   "source": [
    "fig, ax = plt.subplots(figsize=(10,6),nrows=1, ncols=1)\n",
    "\n",
    "\n",
    "ax.errorbar(x=en_center, y=LiMa_list , xerr = delta_E/2 , c='black', capsize=2, fmt='o')\n",
    "\n",
    "ax.set_xlabel( ' Energy / TeV')\n",
    "ax.set_ylabel( ' Excess Significance')\n",
    "ax.set_xscale('log')\n"
   ]
  },
  {
   "cell_type": "markdown",
   "metadata": {},
   "source": [
    "Exercise: Compute the Li&Ma significance for the total counts. How significant is the total signal?"
   ]
  },
  {
   "cell_type": "markdown",
   "metadata": {
    "jp-MarkdownHeadingCollapsed": true,
    "tags": []
   },
   "source": [
    "## 9. Flux in Energy"
   ]
  },
  {
   "cell_type": "code",
   "execution_count": null,
   "metadata": {},
   "outputs": [],
   "source": [
    "exposure_time = events.header.get('LIVETIME') * u.second \n",
    "exposure_time.to( u.minute)"
   ]
  },
  {
   "cell_type": "markdown",
   "metadata": {},
   "source": [
    " WE REMOVE BIN WITH EFF AREA = 0 and EXCESS = 0"
   ]
  },
  {
   "cell_type": "code",
   "execution_count": null,
   "metadata": {},
   "outputs": [],
   "source": [
    "cond_aeff  = eff_area >0\n",
    "cond_exces = excess >0\n",
    "cond       = cond_aeff*cond_exces\n",
    "\n",
    "\n",
    "en_center = en_center[cond]\n",
    "en_low    = en_low[cond]\n",
    "en_high   = en_high[cond]\n",
    "delta_E    = delta_E[cond]\n",
    "\n",
    "eff_area  = eff_area[cond]\n",
    "\n",
    "excess     = excess[cond]\n",
    "err_excess = err_excess[cond]\n",
    "\n",
    "noff_list = noff_list[cond]\n",
    "non_list  = non_list[cond]"
   ]
  },
  {
   "cell_type": "markdown",
   "metadata": {},
   "source": [
    "We are now finally ready to compute the flux in each energy bin"
   ]
  },
  {
   "cell_type": "code",
   "execution_count": null,
   "metadata": {},
   "outputs": [],
   "source": [
    "flux = excess/( eff_area * u.m**2)/ exposure_time/ ( delta_E *u.TeV)\n",
    "\n",
    "flux_err = err_excess/( eff_area * u.m**2)/ exposure_time/ ( delta_E *u.TeV)\n"
   ]
  },
  {
   "cell_type": "markdown",
   "metadata": {},
   "source": [
    "We can now plot the flux in energy"
   ]
  },
  {
   "cell_type": "markdown",
   "metadata": {},
   "source": [
    "For reference we will also print the flux we should expect from the Crab Nebula"
   ]
  },
  {
   "cell_type": "code",
   "execution_count": null,
   "metadata": {},
   "outputs": [],
   "source": [
    "def log_parababola( e, f0, E0, a, b):\n",
    "    return f0* (e/E0) **( - a + b* np.log( e/E0))"
   ]
  },
  {
   "cell_type": "code",
   "execution_count": null,
   "metadata": {},
   "outputs": [],
   "source": [
    "fig, ax = plt.subplots(figsize=(10,6),nrows=1, ncols=1)\n",
    "\n",
    "\n",
    "ax.errorbar(x=en_center, \n",
    "            y=flux.to( 1/(u.TeV * u.cm**2 * u.s) ).value, \n",
    "            yerr = flux_err.to( 1/(u.TeV * u.cm**2 * u.s) ).value , \n",
    "            xerr = delta_E/2 , c='black', capsize=2, fmt='o')\n",
    "\n",
    "x = np.logspace(-2,1,1000) * u.TeV\n",
    "f0 = 3.23e-11 * 1/(u.TeV * u.cm**2 * u.s)\n",
    "E0 = 1 * u.TeV\n",
    "a  = 2.47\n",
    "b  = -0.24\n",
    "y = log_parababola(x, f0, E0, a, b)\n",
    "\n",
    "ax.plot(x,y, c='black', alpha=0.5,label='Reference flux - Crab Nebula')\n",
    "\n",
    "ax.set_ylim([1e-14, None])\n",
    "\n",
    "ax.set_xlabel( ' Energy / TeV')\n",
    "\n",
    "ax.set_ylabel( ' Flux / cm^2 s TeV')\n",
    "ax.set_xscale('log')\n",
    "ax.set_yscale('log')\n",
    "ax.legend();"
   ]
  },
  {
   "cell_type": "markdown",
   "metadata": {},
   "source": [
    "Excercise: Recompute the flux using 2 OFF regions instead of 3. How much the flux changes?"
   ]
  },
  {
   "cell_type": "code",
   "execution_count": null,
   "metadata": {},
   "outputs": [],
   "source": []
  }
 ],
 "metadata": {
  "kernelspec": {
   "display_name": "Python 3 (ipykernel)",
   "language": "python",
   "name": "python3"
  },
  "language_info": {
   "codemirror_mode": {
    "name": "ipython",
    "version": 3
   },
   "file_extension": ".py",
   "mimetype": "text/x-python",
   "name": "python",
   "nbconvert_exporter": "python",
   "pygments_lexer": "ipython3",
   "version": "3.9.18"
  }
 },
 "nbformat": 4,
 "nbformat_minor": 4
}
