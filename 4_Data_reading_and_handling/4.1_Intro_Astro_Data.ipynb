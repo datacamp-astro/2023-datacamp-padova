{
 "cells": [
  {
   "cell_type": "markdown",
   "metadata": {
    "tags": []
   },
   "source": [
    "# Hands On Data in Astronomy Pt. 1\n",
    "\n",
    "In this fist part we will lear how to work with Units, Coordinates and Tables (including fits files)"
   ]
  },
  {
   "cell_type": "markdown",
   "metadata": {
    "jp-MarkdownHeadingCollapsed": true,
    "tags": []
   },
   "source": [
    "## Table of contents\n",
    " - [0. Setup](#0.-Setup)\n",
    " - [1. Units and Quantities](#1.-Units-and-Quantities)\n",
    " - [2. Coordinates](#2.-Coordinates)\n",
    "    - [2.1 ALT / AZ coordinates](#2.1-ALT-/-AZ-coordinates)\n",
    " - [3. Tables](#3.-Tables)\n",
    "    - [3.1 Basics](#3.1-Basics)\n",
    "    - [3.2 Accessing rows and columns](#3.2-Accessing-rows-and-columns)\n",
    "    - [3.3 Reading / Writing tables to disk](#3.3-Reading-/-Writing-tables-to-disk)\n",
    " - [4. Read FITS files](#4.-Read-FITS-files)\n",
    "    - [4.1 Primary](#4.1-Primary)\n",
    "    - [4.2 Events](#4.2-Events)\n",
    "    - [4.3 GTI](#4.3-GTI)\n",
    "    - [4.4 Effective Area](#4.4-Effective-Area)\n",
    "    - [4.5 Energy Dispersion](#4.5-Energy-Dispersion)\n",
    "\n"
   ]
  },
  {
   "cell_type": "markdown",
   "metadata": {},
   "source": [
    "## What is Astropy?\n",
    "\n",
    "\n",
    "    \"The Astropy Project is a community effort to develop a single core package for Astronomy in Python and foster interoperability between Python astronomy packages.\"\n",
    "\n",
    "\n",
    "The concept and structure of the package is decribed in more detail in the first [Astropy paper 2013](http://adsabs.harvard.edu/abs/2013A%26A...558A..33A). The development infrastructure\n",
    "and status of the v2.0 core package is described in the second [Astropy paper 2018](http://adsabs.harvard.edu/abs/2018AJ....156..123A).\n",
    "\n",
    "The **Astropy package is structured into several submodules** and we will cover (what we consider) the most important of them in the following order:\n",
    "\n",
    "1. [astropy.units](http://docs.astropy.org/en/stable/units/index.html) and in particular [astropy.units.Quantity](http://docs.astropy.org/en/stable/api/astropy.units.Quantity.html) to do astronomical calculations with units.\n",
    "\n",
    "2. [astropy.coordinates](http://docs.astropy.org/en/stable/coordinates/) and in particular the classes [SkyCoord](http://docs.astropy.org/en/stable/api/astropy.coordinates.SkyCoord.html) and [Angle](http://docs.astropy.org/en/stable/coordinates/angles.html) to handle astronomical sky positions, coordinate systems and coordinate transformations.\n",
    "\n",
    "3. [astropy.tables](http://docs.astropy.org/en/stable/table/index.html) and the [Table](http://docs.astropy.org/en/stable/api/astropy.table.Table.html) class to handle astronomical data tables.\n",
    "\n",
    "4. [astropy.io.fits](http://docs.astropy.org/en/stable/io/fits/index.html) to open and write data files in [FITS format](https://fits.gsfc.nasa.gov/fits_documentation.html).\n"
   ]
  },
  {
   "cell_type": "markdown",
   "metadata": {
    "jp-MarkdownHeadingCollapsed": true,
    "tags": []
   },
   "source": [
    "# 0. Setup\n",
    "[back to top](#Table-of-contents)\n",
    "\n",
    "Check package versions. All examples should work with Astropy > 2.0 and Numpy > 1.11"
   ]
  },
  {
   "cell_type": "code",
   "execution_count": 132,
   "metadata": {},
   "outputs": [],
   "source": [
    "%matplotlib inline  \n",
    "import matplotlib.pyplot as plt"
   ]
  },
  {
   "cell_type": "code",
   "execution_count": 133,
   "metadata": {},
   "outputs": [
    {
     "name": "stdout",
     "output_type": "stream",
     "text": [
      "numpy: 1.24.4\n",
      "astropy: 5.3.3\n"
     ]
    }
   ],
   "source": [
    "import numpy as np\n",
    "import astropy\n",
    "print('numpy:', np.__version__)\n",
    "print('astropy:', astropy.__version__)"
   ]
  },
  {
   "cell_type": "markdown",
   "metadata": {
    "jp-MarkdownHeadingCollapsed": true,
    "tags": []
   },
   "source": [
    "# 1. Units and Quantities\n",
    "\n",
    "The [astropy.units]() subpackage provides functions and classes to handle physical quantities with units. \n",
    "\n",
    "\n",
    "The recommended way to import the `astropy.units` submodule is: "
   ]
  },
  {
   "cell_type": "code",
   "execution_count": 3,
   "metadata": {},
   "outputs": [],
   "source": [
    "from astropy import units as u"
   ]
  },
  {
   "cell_type": "markdown",
   "metadata": {},
   "source": [
    "`Quantities` are created by multiplying any number with a unit object:"
   ]
  },
  {
   "cell_type": "code",
   "execution_count": 136,
   "metadata": {},
   "outputs": [
    {
     "name": "stdout",
     "output_type": "stream",
     "text": [
      "3.2615637771674333 lyr\n",
      "1.0 pc\n"
     ]
    }
   ],
   "source": [
    "distance = 1. * u.parsec\n",
    "print( distance.to( u.lightyear) )\n",
    "print(distance)"
   ]
  },
  {
   "cell_type": "markdown",
   "metadata": {},
   "source": [
    "Or by passing a string to the general `Quantity` object:"
   ]
  },
  {
   "cell_type": "code",
   "execution_count": 137,
   "metadata": {},
   "outputs": [],
   "source": [
    "distance = u.Quantity('1 lyr')"
   ]
  },
  {
   "cell_type": "markdown",
   "metadata": {},
   "source": [
    "Check the availabe units with tab completion on the units module, `u.<TAB>`.\n",
    "\n",
    "Quantities can be also created using lists and arrays:"
   ]
  },
  {
   "cell_type": "code",
   "execution_count": 138,
   "metadata": {},
   "outputs": [
    {
     "name": "stdout",
     "output_type": "stream",
     "text": [
      "[ 1.  3. 10.] lyr\n",
      "[ 1.  3. 10.] lyr\n"
     ]
    }
   ],
   "source": [
    "distances = [1, 3, 10] * u.lightyear\n",
    "print(distances)\n",
    "\n",
    "distances = np.array([1, 3, 10]) * u.lightyear\n",
    "print(distances)"
   ]
  },
  {
   "cell_type": "code",
   "execution_count": 139,
   "metadata": {},
   "outputs": [
    {
     "data": {
      "text/plain": [
       "array([ 1.,  3., 10.])"
      ]
     },
     "execution_count": 139,
     "metadata": {},
     "output_type": "execute_result"
    }
   ],
   "source": [
    "distances.value"
   ]
  },
  {
   "cell_type": "code",
   "execution_count": 140,
   "metadata": {},
   "outputs": [
    {
     "data": {
      "text/latex": [
       "$4.6666667 \\; \\mathrm{lyr}$"
      ],
      "text/plain": [
       "<Quantity 4.66666667 lyr>"
      ]
     },
     "execution_count": 140,
     "metadata": {},
     "output_type": "execute_result"
    }
   ],
   "source": [
    "np.mean( distances)"
   ]
  },
  {
   "cell_type": "markdown",
   "metadata": {},
   "source": [
    "The quantity object has a value attribute, which is a plain `numpy.ndarray`:"
   ]
  },
  {
   "cell_type": "code",
   "execution_count": 141,
   "metadata": {},
   "outputs": [
    {
     "data": {
      "text/plain": [
       "numpy.ndarray"
      ]
     },
     "execution_count": 141,
     "metadata": {},
     "output_type": "execute_result"
    }
   ],
   "source": [
    "type(distances.value)"
   ]
  },
  {
   "cell_type": "markdown",
   "metadata": {},
   "source": [
    "And a unit, which is represented by a `astropy.units.core.Unit` object:"
   ]
  },
  {
   "cell_type": "code",
   "execution_count": 10,
   "metadata": {},
   "outputs": [
    {
     "data": {
      "text/latex": [
       "$\\mathrm{lyr}$"
      ],
      "text/plain": [
       "Unit(\"lyr\")"
      ]
     },
     "execution_count": 10,
     "metadata": {},
     "output_type": "execute_result"
    }
   ],
   "source": [
    "distances.unit"
   ]
  },
  {
   "cell_type": "code",
   "execution_count": 11,
   "metadata": {},
   "outputs": [
    {
     "data": {
      "text/plain": [
       "astropy.units.core.Unit"
      ]
     },
     "execution_count": 11,
     "metadata": {},
     "output_type": "execute_result"
    }
   ],
   "source": [
    "type(distances.unit)"
   ]
  },
  {
   "cell_type": "code",
   "execution_count": 12,
   "metadata": {},
   "outputs": [
    {
     "data": {
      "text/plain": [
       "float"
      ]
     },
     "execution_count": 12,
     "metadata": {},
     "output_type": "execute_result"
    }
   ],
   "source": [
    "type(3.)"
   ]
  },
  {
   "cell_type": "markdown",
   "metadata": {},
   "source": [
    "A quantity behaves in many ways just like a `numpy.ndarray` with an attached unit."
   ]
  },
  {
   "cell_type": "code",
   "execution_count": 13,
   "metadata": {},
   "outputs": [
    {
     "data": {
      "text/latex": [
       "$[10,~30,~100] \\; \\mathrm{lyr}$"
      ],
      "text/plain": [
       "<Quantity [ 10.,  30., 100.] lyr>"
      ]
     },
     "execution_count": 13,
     "metadata": {},
     "output_type": "execute_result"
    }
   ],
   "source": [
    "distances * 10"
   ]
  },
  {
   "cell_type": "markdown",
   "metadata": {},
   "source": [
    "Many numpy functions will work as expected and return again a `Quantity` object:"
   ]
  },
  {
   "cell_type": "code",
   "execution_count": 14,
   "metadata": {},
   "outputs": [
    {
     "data": {
      "text/latex": [
       "$10 \\; \\mathrm{lyr}$"
      ],
      "text/plain": [
       "<Quantity 10. lyr>"
      ]
     },
     "execution_count": 14,
     "metadata": {},
     "output_type": "execute_result"
    }
   ],
   "source": [
    "np.max(distances)"
   ]
  },
  {
   "cell_type": "code",
   "execution_count": 15,
   "metadata": {},
   "outputs": [
    {
     "data": {
      "text/latex": [
       "$4.6666667 \\; \\mathrm{lyr}$"
      ],
      "text/plain": [
       "<Quantity 4.66666667 lyr>"
      ]
     },
     "execution_count": 15,
     "metadata": {},
     "output_type": "execute_result"
    }
   ],
   "source": [
    "np.mean(distances)"
   ]
  },
  {
   "cell_type": "markdown",
   "metadata": {},
   "source": [
    "But there are exceptions, where the unit handling is not well defined, e.g. in `np.log` arguments have to be dimensionless, such as:"
   ]
  },
  {
   "cell_type": "code",
   "execution_count": 16,
   "metadata": {},
   "outputs": [
    {
     "data": {
      "text/latex": [
       "$3.4011974 \\; \\mathrm{}$"
      ],
      "text/plain": [
       "<Quantity 3.40119738>"
      ]
     },
     "execution_count": 16,
     "metadata": {},
     "output_type": "execute_result"
    }
   ],
   "source": [
    "#np.log(30 * u.MeV) # Will raise an UnitConversionError\n",
    "np.log(30 * u.MeV / (1 * u.MeV))"
   ]
  },
  {
   "cell_type": "code",
   "execution_count": 17,
   "metadata": {},
   "outputs": [
    {
     "name": "stdout",
     "output_type": "stream",
     "text": [
      "299792.458 km / s\n"
     ]
    }
   ],
   "source": [
    "from astropy import constants as const\n",
    "\n",
    "print(const.c.to('km / s'))"
   ]
  },
  {
   "cell_type": "markdown",
   "metadata": {},
   "source": [
    "Probably the most useful method on the `Quantity` object is the `.to()` method which allows to convert a quantity to different units:"
   ]
  },
  {
   "cell_type": "code",
   "execution_count": 23,
   "metadata": {},
   "outputs": [
    {
     "data": {
      "text/latex": [
       "$9.4607305 \\times 10^{15} \\; \\mathrm{m}$"
      ],
      "text/plain": [
       "<Quantity 9.46073047e+15 m>"
      ]
     },
     "execution_count": 23,
     "metadata": {},
     "output_type": "execute_result"
    }
   ],
   "source": [
    "distance.to('meter')"
   ]
  },
  {
   "cell_type": "code",
   "execution_count": 24,
   "metadata": {},
   "outputs": [
    {
     "data": {
      "text/latex": [
       "$0.30660139 \\; \\mathrm{pc}$"
      ],
      "text/plain": [
       "<Quantity 0.30660139 pc>"
      ]
     },
     "execution_count": 24,
     "metadata": {},
     "output_type": "execute_result"
    }
   ],
   "source": [
    "distance.to(u.parsec)"
   ]
  },
  {
   "cell_type": "markdown",
   "metadata": {},
   "source": [
    "Quantities can be combined with any arithmetical expression to derive other quantities, `astropy.units` will propagate\n",
    "the units correctly:"
   ]
  },
  {
   "cell_type": "code",
   "execution_count": 25,
   "metadata": {},
   "outputs": [
    {
     "name": "stdout",
     "output_type": "stream",
     "text": [
      "299792.458 km / s\n"
     ]
    }
   ],
   "source": [
    "speed_of_light = distance / u.year\n",
    "print(speed_of_light.to('km/s'))"
   ]
  },
  {
   "cell_type": "code",
   "execution_count": 26,
   "metadata": {},
   "outputs": [
    {
     "name": "stdout",
     "output_type": "stream",
     "text": [
      "299792.458 km / s\n"
     ]
    }
   ],
   "source": [
    "from astropy import constants as const\n",
    "\n",
    "print(const.c.to('km / s'))"
   ]
  },
  {
   "cell_type": "code",
   "execution_count": 27,
   "metadata": {},
   "outputs": [
    {
     "name": "stdout",
     "output_type": "stream",
     "text": [
      "29.979245800000008 cm / ns\n"
     ]
    }
   ],
   "source": [
    "print(const.c.to('cm / ns'))"
   ]
  },
  {
   "cell_type": "markdown",
   "metadata": {},
   "source": [
    "Here is a [list of available constants](http://docs.astropy.org/en/stable/constants/#module-astropy.constants).\n",
    "\n",
    "If you write a function you can make sure the input is given in the right units using the [astropy.units.quantity_input](http://docs.astropy.org/en/stable/api/astropy.units.quantity_input.html#astropy.units.quantity_input) decorator: "
   ]
  },
  {
   "cell_type": "markdown",
   "metadata": {},
   "source": [
    "### Exercises\n",
    "\n",
    "- (*easy*) How long does the light travel from the sun to the earth in minutes? How long does the light travel from the Galactic center (assume a distance of 8 kpc) in years? \n",
    "- (*intermediate*) The tzar bomb was about 50 TNT. One TNT is about 4.2 Giga Joule. How many Giga Joule were released by the Tsar bomb? If we were to convert the human body to energy, how many Tsar bomb would that be equivalent to? Assume a human of 70 Kg.\n",
    "- (*advanced*) Define a new unit called `\"baro-meter\"`, which is eqivalent to 25 cm and use it to measure the height of the empire state building (assume a height of 381 meters). Please read the [Astropy documentation on combining and defining units](http://docs.astropy.org/en/stable/units/combining_and_defining.html) for an example how to do this (For other ways to measure the height of a building using a barometer see [barometer question on Wikipedia](https://en.wikipedia.org/wiki/Barometer_question)...)\n"
   ]
  },
  {
   "cell_type": "code",
   "execution_count": 153,
   "metadata": {},
   "outputs": [],
   "source": [
    "#tnt = u.Unit('TNT', 4.18*u.GJ)\n",
    "#zar = 50e6*tnt\n",
    "#zar = u.Unit('zar' , 243*u.PJ)\n",
    "#human_body = 70* u.kg * const.c**2\n",
    "#human_body.to( zar)"
   ]
  },
  {
   "cell_type": "markdown",
   "metadata": {
    "jp-MarkdownHeadingCollapsed": true,
    "tags": []
   },
   "source": [
    "# 2. Coordinates\n",
    "\n",
    "[back to top](#Table-of-contents)\n",
    "\n",
    "With the submodule [astropy.coordinates](http://docs.astropy.org/en/stable/coordinates/) Astropy provides a framework to handle sky positions in various coordinate systems and transformations between them.\n",
    "\n",
    "\n",
    "The basic class to handle sky coordinates is [SkyCoord](http://docs.astropy.org/en/stable/api/astropy.coordinates.SkyCoord.html):"
   ]
  },
  {
   "cell_type": "code",
   "execution_count": 28,
   "metadata": {},
   "outputs": [],
   "source": [
    "from astropy.coordinates import SkyCoord"
   ]
  },
  {
   "cell_type": "markdown",
   "metadata": {},
   "source": [
    "It can be created by passing a position angle for longitude and latitude and a keyword specifying a coordinate frame:"
   ]
  },
  {
   "cell_type": "code",
   "execution_count": 29,
   "metadata": {},
   "outputs": [
    {
     "name": "stdout",
     "output_type": "stream",
     "text": [
      "<SkyCoord (ICRS): (ra, dec) in deg\n",
      "    (83.63, 22.01)>\n"
     ]
    }
   ],
   "source": [
    "position_crab = SkyCoord(83.63 * u.deg,  22.01 * u.deg, frame='icrs')\n",
    "print(position_crab)"
   ]
  },
  {
   "cell_type": "markdown",
   "metadata": {},
   "source": [
    "As for `Quantities` the instanciation with `lists`, `arrays` or even `Quantities` also works:"
   ]
  },
  {
   "cell_type": "code",
   "execution_count": 30,
   "metadata": {},
   "outputs": [],
   "source": [
    "positions = SkyCoord([345., 234.3] * u.deg,  [-0.1, 0.2] * u.deg, frame='galactic')"
   ]
  },
  {
   "cell_type": "markdown",
   "metadata": {},
   "source": [
    "Alternatively the angles can be specified as string:"
   ]
  },
  {
   "cell_type": "code",
   "execution_count": 161,
   "metadata": {},
   "outputs": [],
   "source": [
    "position_crab = SkyCoord('5h34m31.97s', '22d0m52.10s', frame='icrs')\n",
    "\n",
    "# or\n",
    "\n",
    "position_crab = SkyCoord('5:34:31.97', '22:0:52.10',\n",
    "                         unit=(u.hour, u.deg), frame='icrs')"
   ]
  },
  {
   "cell_type": "code",
   "execution_count": 163,
   "metadata": {},
   "outputs": [
    {
     "data": {
      "text/plain": [
       "<SkyCoord (ICRS): (ra, dec) in deg\n",
       "    (83.63320833, 22.01447222)>"
      ]
     },
     "execution_count": 163,
     "metadata": {},
     "output_type": "execute_result"
    }
   ],
   "source": [
    "position_crab"
   ]
  },
  {
   "cell_type": "code",
   "execution_count": 172,
   "metadata": {},
   "outputs": [
    {
     "data": {
      "text/latex": [
       "$0^\\circ00{}^\\prime00{}^{\\prime\\prime}$"
      ],
      "text/plain": [
       "<Angle 0. deg>"
      ]
     },
     "execution_count": 172,
     "metadata": {},
     "output_type": "execute_result"
    }
   ],
   "source": [
    "position_crab.separation( position_crab )"
   ]
  },
  {
   "cell_type": "code",
   "execution_count": 175,
   "metadata": {},
   "outputs": [
    {
     "data": {
      "text/latex": [
       "$172^\\circ38{}^\\prime26.74307405{}^{\\prime\\prime}$"
      ],
      "text/plain": [
       "<Angle 172.64076197 deg>"
      ]
     },
     "execution_count": 175,
     "metadata": {},
     "output_type": "execute_result"
    }
   ],
   "source": [
    "position_gal_cen = SkyCoord(0 * u.deg,0 * u.deg,  frame='galactic')\n",
    "position_crab.separation( position_gal_cen )"
   ]
  },
  {
   "cell_type": "markdown",
   "metadata": {},
   "source": [
    "Where in the first case the unit doesn't have to specified because it is encoded in the string via `'hms'` and `'dms'`.\n",
    "\n",
    "A very convenient way to get the coordinates of an individual object is qerying the [Sesame](http://cds.u-strasbg.fr/cgi-bin/Sesame) database with `SkyCoord.from_name()`:"
   ]
  },
  {
   "cell_type": "code",
   "execution_count": 32,
   "metadata": {},
   "outputs": [
    {
     "data": {
      "text/plain": [
       "<SkyCoord (ICRS): (ra, dec) in deg\n",
       "    (37.95456067, 89.26410897)>"
      ]
     },
     "execution_count": 32,
     "metadata": {},
     "output_type": "execute_result"
    }
   ],
   "source": [
    "SkyCoord.from_name('Polaris')"
   ]
  },
  {
   "cell_type": "markdown",
   "metadata": {},
   "source": [
    "To transform the coordinates to a different coordinate system we can use `SkyCoord.transform_to()`:"
   ]
  },
  {
   "cell_type": "code",
   "execution_count": 33,
   "metadata": {},
   "outputs": [
    {
     "data": {
      "text/plain": [
       "<SkyCoord (Galactic): (l, b) in deg\n",
       "    (184.55754381, -5.78427369)>"
      ]
     },
     "execution_count": 33,
     "metadata": {},
     "output_type": "execute_result"
    }
   ],
   "source": [
    "pos_gal = position_crab.transform_to('galactic')\n",
    "pos_gal"
   ]
  },
  {
   "cell_type": "markdown",
   "metadata": {},
   "source": [
    "For convenience we can also directly use the `.galactic` or `.icrs` attributes:"
   ]
  },
  {
   "cell_type": "code",
   "execution_count": 34,
   "metadata": {},
   "outputs": [
    {
     "data": {
      "text/plain": [
       "<SkyCoord (Galactic): (l, b) in deg\n",
       "    (184.55754381, -5.78427369)>"
      ]
     },
     "execution_count": 34,
     "metadata": {},
     "output_type": "execute_result"
    }
   ],
   "source": [
    "position_crab.galactic"
   ]
  },
  {
   "cell_type": "code",
   "execution_count": 35,
   "metadata": {},
   "outputs": [
    {
     "data": {
      "text/plain": [
       "<SkyCoord (ICRS): (ra, dec) in deg\n",
       "    (83.63320833, 22.01447222)>"
      ]
     },
     "execution_count": 35,
     "metadata": {},
     "output_type": "execute_result"
    }
   ],
   "source": [
    "position_crab.icrs"
   ]
  },
  {
   "cell_type": "markdown",
   "metadata": {},
   "source": [
    "To access the `longitude` and `latitude` angles individually: "
   ]
  },
  {
   "cell_type": "code",
   "execution_count": 36,
   "metadata": {},
   "outputs": [
    {
     "data": {
      "text/latex": [
       "$5^{\\mathrm{h}}34^{\\mathrm{m}}31.97^{\\mathrm{s}}$"
      ],
      "text/plain": [
       "<Longitude 5.57554722 hourangle>"
      ]
     },
     "execution_count": 36,
     "metadata": {},
     "output_type": "execute_result"
    }
   ],
   "source": [
    "position_crab.data.lon"
   ]
  },
  {
   "cell_type": "code",
   "execution_count": 37,
   "metadata": {},
   "outputs": [
    {
     "data": {
      "text/latex": [
       "$22^\\circ00{}^\\prime52.1{}^{\\prime\\prime}$"
      ],
      "text/plain": [
       "<Latitude 22.01447222 deg>"
      ]
     },
     "execution_count": 37,
     "metadata": {},
     "output_type": "execute_result"
    }
   ],
   "source": [
    "position_crab.data.lat"
   ]
  },
  {
   "cell_type": "markdown",
   "metadata": {},
   "source": [
    "## 2.1 ALT / AZ coordinates\n",
    "\n",
    "In various cirumstances, e.g. for planning observations, it can be usefull to transform a sky coordinate into a position in the horizontal coordinate system given a location on earth and a time\n",
    "\n",
    "See:  https://en.wikipedia.org/wiki/Azimuth#/media/File:Azimuth-Altitude_schematic.svg"
   ]
  },
  {
   "cell_type": "code",
   "execution_count": 38,
   "metadata": {},
   "outputs": [],
   "source": [
    "from astropy.coordinates import EarthLocation, AltAz\n",
    "from astropy.time import Time"
   ]
  },
  {
   "cell_type": "markdown",
   "metadata": {},
   "source": [
    "We define a location using [EarthLocation](http://docs.astropy.org/en/stable/api/astropy.coordinates.EarthLocation.html):"
   ]
  },
  {
   "cell_type": "code",
   "execution_count": 39,
   "metadata": {},
   "outputs": [
    {
     "name": "stdout",
     "output_type": "stream",
     "text": [
      "GeodeticLocation(lon=<Longitude 11.876761 deg>, lat=<Latitude 45.406435 deg>, height=<Quantity -1.36248431e-09 m>)\n"
     ]
    }
   ],
   "source": [
    "Padova= EarthLocation(lat=45.406435 * u.deg, lon=11.876761 * u.deg)\n",
    "print(Padova.geodetic)\n",
    "\n"
   ]
  },
  {
   "cell_type": "markdown",
   "metadata": {},
   "source": [
    "And a time using the [Time](http://docs.astropy.org/en/stable/api/astropy.time.Time.html) object:"
   ]
  },
  {
   "cell_type": "code",
   "execution_count": 210,
   "metadata": {},
   "outputs": [
    {
     "name": "stdout",
     "output_type": "stream",
     "text": [
      "2023-09-21 10:55:22.974279\n"
     ]
    }
   ],
   "source": [
    "now = Time.now()\n",
    "print(now)"
   ]
  },
  {
   "cell_type": "code",
   "execution_count": 41,
   "metadata": {},
   "outputs": [],
   "source": [
    "now += 7 * u.hour"
   ]
  },
  {
   "cell_type": "code",
   "execution_count": 42,
   "metadata": {},
   "outputs": [
    {
     "data": {
      "text/plain": [
       "<Time object: scale='utc' format='datetime' value=2023-09-21 16:03:21.462364>"
      ]
     },
     "execution_count": 42,
     "metadata": {},
     "output_type": "execute_result"
    }
   ],
   "source": [
    "now"
   ]
  },
  {
   "cell_type": "markdown",
   "metadata": {},
   "source": [
    "Now we can define a horizontal coordinate system using the [AltAz]([docs.astropy.org/en/stable/api/astropy.coordinates.AltAz.html) class and use it to convert from the sky coordinate:"
   ]
  },
  {
   "cell_type": "code",
   "execution_count": 43,
   "metadata": {},
   "outputs": [],
   "source": [
    "position = SkyCoord.from_name('Polaris')"
   ]
  },
  {
   "cell_type": "code",
   "execution_count": 182,
   "metadata": {},
   "outputs": [
    {
     "name": "stdout",
     "output_type": "stream",
     "text": [
      "<SkyCoord (AltAz: obstime=2023-09-21 16:03:21.462364, location=(4389514.25342687, 923156.45903806, 4519174.48628577) m, pressure=0.0 hPa, temperature=0.0 deg_C, relative_humidity=0.0, obswl=1.0 micron): (az, alt) in deg\n",
      "    (0.41334787, 44.83702682)>\n"
     ]
    }
   ],
   "source": [
    "altazPadova = AltAz(obstime=now, location=Padova)\n",
    "altaz       = position.transform_to(altazPadova)\n",
    "print(altaz)"
   ]
  },
  {
   "cell_type": "markdown",
   "metadata": {},
   "source": [
    "### Exercises\n",
    "\n",
    "- (*easy*) Define the sky coordinate for your favorite astronomical object and find the angular distance to the Crab Nebula as well as the Galactic center.\n",
    "- (*expert*) Make a plot of the height above horizon vs.time for the crab position at the location of Padova in the next 24 hours. Mark the time range where it is visible. Would the Crab Nebula be visible tonight?"
   ]
  },
  {
   "cell_type": "code",
   "execution_count": 200,
   "metadata": {},
   "outputs": [],
   "source": [
    "from astropy.time import TimezoneInfo"
   ]
  },
  {
   "cell_type": "code",
   "execution_count": 216,
   "metadata": {},
   "outputs": [
    {
     "name": "stdout",
     "output_type": "stream",
     "text": [
      "2023-09-21 10:56:10.758432\n"
     ]
    }
   ],
   "source": [
    "now = Time.now()\n",
    "print(now)\n",
    "time_array = now + np.arange(0,24,0.2) * u.h\n",
    "\n",
    "\n",
    "EST = TimezoneInfo(utc_offset=2*u.hour)  # UTC+2\n",
    "\n",
    "\n",
    "times     = []\n",
    "altitudes = []\n",
    "for t in time_array:\n",
    "    altazPadova = AltAz(obstime=t, location=Padova)\n",
    "    altaz       = position.transform_to(altazPadova)\n",
    "    altitudes.append(altaz.alt.to(u.deg).value )\n",
    "    \n",
    "    t = t.to_datetime(timezone=EST)\n",
    "    \n",
    "    times.append( t.hour + t.minute/60 + t.second/3600)"
   ]
  },
  {
   "cell_type": "markdown",
   "metadata": {
    "jp-MarkdownHeadingCollapsed": true,
    "tags": []
   },
   "source": [
    "# 3. Tables\n",
    "\n",
    "[back to top](#Table-of-contents)\n",
    "\n",
    "Astropy provides the [Table](http://docs.astropy.org/en/stable/api/astropy.io.votable.tree.Table.html) class in order to handle data tables.\n",
    "\n"
   ]
  },
  {
   "cell_type": "markdown",
   "metadata": {
    "jp-MarkdownHeadingCollapsed": true,
    "tags": []
   },
   "source": [
    "## 3.1 Basics\n",
    "\n",
    "Table objects can be created as shown in the following"
   ]
  },
  {
   "cell_type": "code",
   "execution_count": 45,
   "metadata": {},
   "outputs": [],
   "source": [
    "from astropy.table import Table"
   ]
  },
  {
   "cell_type": "code",
   "execution_count": 46,
   "metadata": {},
   "outputs": [],
   "source": [
    "table = Table()"
   ]
  },
  {
   "cell_type": "markdown",
   "metadata": {},
   "source": [
    "We add columns to the table like we would add entries to a dictionary"
   ]
  },
  {
   "cell_type": "code",
   "execution_count": 47,
   "metadata": {},
   "outputs": [],
   "source": [
    "table['Source_Name'] = ['Crab', 'Sag A*', 'Cas A', 'Vela Junior']\n",
    "table['GLON'] = [184.5575438, 0, 111.74169477, 266.25914205] * u.deg\n",
    "table['GLAT'] = [-5.78427369, 0, -2.13544151, -1.21985818] * u.deg\n",
    "table['Source_Class'] = ['pwn', 'unc', 'snr', 'snr']"
   ]
  },
  {
   "cell_type": "markdown",
   "metadata": {},
   "source": [
    "By executing the following cell, we get a nicely formatted version of the table printed in the notebook:"
   ]
  },
  {
   "cell_type": "code",
   "execution_count": 48,
   "metadata": {},
   "outputs": [
    {
     "data": {
      "text/html": [
       "<div><i>Table length=4</i>\n",
       "<table id=\"table4597992848\" class=\"table-striped table-bordered table-condensed\">\n",
       "<thead><tr><th>Source_Name</th><th>GLON</th><th>GLAT</th><th>Source_Class</th></tr></thead>\n",
       "<thead><tr><th></th><th>deg</th><th>deg</th><th></th></tr></thead>\n",
       "<thead><tr><th>str11</th><th>float64</th><th>float64</th><th>str3</th></tr></thead>\n",
       "<tr><td>Crab</td><td>184.5575438</td><td>-5.78427369</td><td>pwn</td></tr>\n",
       "<tr><td>Sag A*</td><td>0.0</td><td>0.0</td><td>unc</td></tr>\n",
       "<tr><td>Cas A</td><td>111.74169477</td><td>-2.13544151</td><td>snr</td></tr>\n",
       "<tr><td>Vela Junior</td><td>266.25914205</td><td>-1.21985818</td><td>snr</td></tr>\n",
       "</table></div>"
      ],
      "text/plain": [
       "<Table length=4>\n",
       "Source_Name     GLON         GLAT    Source_Class\n",
       "                deg          deg                 \n",
       "   str11      float64      float64       str3    \n",
       "----------- ------------ ----------- ------------\n",
       "       Crab  184.5575438 -5.78427369          pwn\n",
       "     Sag A*          0.0         0.0          unc\n",
       "      Cas A 111.74169477 -2.13544151          snr\n",
       "Vela Junior 266.25914205 -1.21985818          snr"
      ]
     },
     "execution_count": 48,
     "metadata": {},
     "output_type": "execute_result"
    }
   ],
   "source": [
    "table"
   ]
  },
  {
   "cell_type": "markdown",
   "metadata": {},
   "source": [
    "## 3.2 Accessing rows and columns"
   ]
  },
  {
   "cell_type": "markdown",
   "metadata": {},
   "source": [
    "We have access to the defined columns. To check which ones are availbe you can use `Table.colnames`:"
   ]
  },
  {
   "cell_type": "code",
   "execution_count": 49,
   "metadata": {},
   "outputs": [
    {
     "data": {
      "text/plain": [
       "['Source_Name', 'GLON', 'GLAT', 'Source_Class']"
      ]
     },
     "execution_count": 49,
     "metadata": {},
     "output_type": "execute_result"
    }
   ],
   "source": [
    "table.colnames"
   ]
  },
  {
   "cell_type": "markdown",
   "metadata": {},
   "source": [
    "And access individual columns just by their name:"
   ]
  },
  {
   "cell_type": "code",
   "execution_count": 50,
   "metadata": {},
   "outputs": [
    {
     "data": {
      "text/html": [
       "&lt;Column name=&apos;GLON&apos; dtype=&apos;float64&apos; unit=&apos;deg&apos; length=4&gt;\n",
       "<table>\n",
       "<tr><td>184.5575438</td></tr>\n",
       "<tr><td>0.0</td></tr>\n",
       "<tr><td>111.74169477</td></tr>\n",
       "<tr><td>266.25914205</td></tr>\n",
       "</table>"
      ],
      "text/plain": [
       "<Column name='GLON' dtype='float64' unit='deg' length=4>\n",
       " 184.5575438\n",
       "         0.0\n",
       "111.74169477\n",
       "266.25914205"
      ]
     },
     "execution_count": 50,
     "metadata": {},
     "output_type": "execute_result"
    }
   ],
   "source": [
    "table['GLON']"
   ]
  },
  {
   "cell_type": "markdown",
   "metadata": {},
   "source": [
    "And also a subset of columns:"
   ]
  },
  {
   "cell_type": "code",
   "execution_count": 51,
   "metadata": {},
   "outputs": [
    {
     "data": {
      "text/html": [
       "<div><i>Table length=4</i>\n",
       "<table id=\"table5980055248\" class=\"table-striped table-bordered table-condensed\">\n",
       "<thead><tr><th>Source_Name</th><th>GLON</th></tr></thead>\n",
       "<thead><tr><th></th><th>deg</th></tr></thead>\n",
       "<thead><tr><th>str11</th><th>float64</th></tr></thead>\n",
       "<tr><td>Crab</td><td>184.5575438</td></tr>\n",
       "<tr><td>Sag A*</td><td>0.0</td></tr>\n",
       "<tr><td>Cas A</td><td>111.74169477</td></tr>\n",
       "<tr><td>Vela Junior</td><td>266.25914205</td></tr>\n",
       "</table></div>"
      ],
      "text/plain": [
       "<Table length=4>\n",
       "Source_Name     GLON    \n",
       "                deg     \n",
       "   str11      float64   \n",
       "----------- ------------\n",
       "       Crab  184.5575438\n",
       "     Sag A*          0.0\n",
       "      Cas A 111.74169477\n",
       "Vela Junior 266.25914205"
      ]
     },
     "execution_count": 51,
     "metadata": {},
     "output_type": "execute_result"
    }
   ],
   "source": [
    "table[['Source_Name', 'GLON']]"
   ]
  },
  {
   "cell_type": "markdown",
   "metadata": {},
   "source": [
    "Often, it is handy to get the column data as [astropy.units.Quantity](http://docs.astropy.org/en/stable/api/astropy.units.Quantity.html#astropy.units.Quantity) using the `.quantity` property:"
   ]
  },
  {
   "cell_type": "code",
   "execution_count": 52,
   "metadata": {},
   "outputs": [
    {
     "data": {
      "text/latex": [
       "$[184.55754,~0,~111.74169,~266.25914] \\; \\mathrm{{}^{\\circ}}$"
      ],
      "text/plain": [
       "<Quantity [184.5575438 ,   0.        , 111.74169477, 266.25914205] deg>"
      ]
     },
     "execution_count": 52,
     "metadata": {},
     "output_type": "execute_result"
    }
   ],
   "source": [
    "table['GLON'].quantity"
   ]
  },
  {
   "cell_type": "markdown",
   "metadata": {},
   "source": [
    "Rows can be accessed using numpy indexing:"
   ]
  },
  {
   "cell_type": "code",
   "execution_count": 53,
   "metadata": {},
   "outputs": [
    {
     "data": {
      "text/html": [
       "<div><i>Table length=2</i>\n",
       "<table id=\"table5980055104\" class=\"table-striped table-bordered table-condensed\">\n",
       "<thead><tr><th>Source_Name</th><th>GLON</th><th>GLAT</th><th>Source_Class</th></tr></thead>\n",
       "<thead><tr><th></th><th>deg</th><th>deg</th><th></th></tr></thead>\n",
       "<thead><tr><th>str11</th><th>float64</th><th>float64</th><th>str3</th></tr></thead>\n",
       "<tr><td>Crab</td><td>184.5575438</td><td>-5.78427369</td><td>pwn</td></tr>\n",
       "<tr><td>Sag A*</td><td>0.0</td><td>0.0</td><td>unc</td></tr>\n",
       "</table></div>"
      ],
      "text/plain": [
       "<Table length=2>\n",
       "Source_Name     GLON        GLAT    Source_Class\n",
       "                deg         deg                 \n",
       "   str11      float64     float64       str3    \n",
       "----------- ----------- ----------- ------------\n",
       "       Crab 184.5575438 -5.78427369          pwn\n",
       "     Sag A*         0.0         0.0          unc"
      ]
     },
     "execution_count": 53,
     "metadata": {},
     "output_type": "execute_result"
    }
   ],
   "source": [
    "table[0:2]"
   ]
  },
  {
   "cell_type": "markdown",
   "metadata": {},
   "source": [
    "Or by using a boolean numpy array for indexing:"
   ]
  },
  {
   "cell_type": "code",
   "execution_count": 54,
   "metadata": {},
   "outputs": [
    {
     "data": {
      "text/html": [
       "<div><i>Table length=1</i>\n",
       "<table id=\"table5980054912\" class=\"table-striped table-bordered table-condensed\">\n",
       "<thead><tr><th>Source_Name</th><th>GLON</th><th>GLAT</th><th>Source_Class</th></tr></thead>\n",
       "<thead><tr><th></th><th>deg</th><th>deg</th><th></th></tr></thead>\n",
       "<thead><tr><th>str11</th><th>float64</th><th>float64</th><th>str3</th></tr></thead>\n",
       "<tr><td>Crab</td><td>184.5575438</td><td>-5.78427369</td><td>pwn</td></tr>\n",
       "</table></div>"
      ],
      "text/plain": [
       "<Table length=1>\n",
       "Source_Name     GLON        GLAT    Source_Class\n",
       "                deg         deg                 \n",
       "   str11      float64     float64       str3    \n",
       "----------- ----------- ----------- ------------\n",
       "       Crab 184.5575438 -5.78427369          pwn"
      ]
     },
     "execution_count": 54,
     "metadata": {},
     "output_type": "execute_result"
    }
   ],
   "source": [
    "selection = table['Source_Name'] == 'Crab'\n",
    "table[selection]"
   ]
  },
  {
   "cell_type": "markdown",
   "metadata": {},
   "source": [
    "There is also a more sophisticated indexing scheme, which is explained [here](http://docs.astropy.org/en/stable/table/indexing.html), but not covered in this tutorial."
   ]
  },
  {
   "cell_type": "markdown",
   "metadata": {},
   "source": [
    "## 3.3 Reading / Writing tables to disk\n",
    "Astropy tables can be serialized into many formats. For an overview see [here](http://docs.astropy.org/en/latest/io/unified.html#built-in-table-readers-writers). To write the table in FITS format we can use:"
   ]
  },
  {
   "cell_type": "code",
   "execution_count": 55,
   "metadata": {},
   "outputs": [],
   "source": [
    "table.write('example.fits', overwrite=True, format='fits')"
   ]
  },
  {
   "cell_type": "code",
   "execution_count": 58,
   "metadata": {},
   "outputs": [
    {
     "data": {
      "text/html": [
       "<div><i>Table length=4</i>\n",
       "<table id=\"table5945340256\" class=\"table-striped table-bordered table-condensed\">\n",
       "<thead><tr><th>Source_Name</th><th>GLON</th><th>GLAT</th><th>Source_Class</th></tr></thead>\n",
       "<thead><tr><th></th><th>deg</th><th>deg</th><th></th></tr></thead>\n",
       "<thead><tr><th>bytes11</th><th>float64</th><th>float64</th><th>bytes3</th></tr></thead>\n",
       "<tr><td>Crab</td><td>184.5575438</td><td>-5.78427369</td><td>pwn</td></tr>\n",
       "<tr><td>Sag A*</td><td>0.0</td><td>0.0</td><td>unc</td></tr>\n",
       "<tr><td>Cas A</td><td>111.74169477</td><td>-2.13544151</td><td>snr</td></tr>\n",
       "<tr><td>Vela Junior</td><td>266.25914205</td><td>-1.21985818</td><td>snr</td></tr>\n",
       "</table></div>"
      ],
      "text/plain": [
       "<Table length=4>\n",
       "Source_Name     GLON         GLAT    Source_Class\n",
       "                deg          deg                 \n",
       "  bytes11     float64      float64      bytes3   \n",
       "----------- ------------ ----------- ------------\n",
       "       Crab  184.5575438 -5.78427369          pwn\n",
       "     Sag A*          0.0         0.0          unc\n",
       "      Cas A 111.74169477 -2.13544151          snr\n",
       "Vela Junior 266.25914205 -1.21985818          snr"
      ]
     },
     "execution_count": 58,
     "metadata": {},
     "output_type": "execute_result"
    }
   ],
   "source": [
    "Table.read('example.fits')"
   ]
  },
  {
   "cell_type": "markdown",
   "metadata": {},
   "source": [
    "## Exercises\n",
    "\n",
    "-  Add columns with the `RA` and `DEC` coordinates of the objects to the example table."
   ]
  },
  {
   "cell_type": "markdown",
   "metadata": {
    "jp-MarkdownHeadingCollapsed": true,
    "tags": []
   },
   "source": [
    "# 4. Read FITS files\n",
    "\n",
    "[back to top](#Table-of-contents)\n",
    "\n",
    "The [flexible image transport system](https://fits.gsfc.nasa.gov/fits_documentation.html) format (FITS) is widely used data format for astronomical images and tables. As example we will use idata from the Crab nebula taken with the MAGIC telescope\n",
    "\n",
    "See also: https://gamma-astro-data-formats.readthedocs.io/en/v0.3/general/time.html\n",
    "\n",
    "\n"
   ]
  },
  {
   "cell_type": "code",
   "execution_count": 135,
   "metadata": {},
   "outputs": [],
   "source": [
    "from astropy.io import fits"
   ]
  },
  {
   "cell_type": "markdown",
   "metadata": {},
   "source": [
    "To open the fits file we use `fits.open()` and just specify the filename as an argument:"
   ]
  },
  {
   "cell_type": "code",
   "execution_count": 134,
   "metadata": {},
   "outputs": [],
   "source": [
    "# Get the value of the environment variable\n",
    "import os\n",
    "\n",
    "gammapy_data_path = os.environ.get('GAMMAPY_DATA')\n",
    "if not gammapy_data_path:\n",
    "    raise ValueError(\"The GAMMAPY_DATA environment variable is not set!\")\n"
   ]
  },
  {
   "cell_type": "code",
   "execution_count": 109,
   "metadata": {},
   "outputs": [
    {
     "name": "stdout",
     "output_type": "stream",
     "text": [
      "/Users/giacomodamico/Desktop/CTA/0_Analysis/4_GAMMAPY_19/gammapy-datasets/magic/rad_max/data/magic_dl3_run_05029748.fits\n"
     ]
    }
   ],
   "source": [
    "# Construct the full path to the FITS file\n",
    "# 'cta-1dc/data/baseline/gps/gps_baseline_111630.fits'\n",
    "# 'magic/rad_max/data/magic_dl3_run_05029748.fits'\n",
    "fits_file_path = os.path.join(gammapy_data_path, 'magic/rad_max/data/magic_dl3_run_05029748.fits')\n",
    "print(fits_file_path)"
   ]
  },
  {
   "cell_type": "code",
   "execution_count": 110,
   "metadata": {},
   "outputs": [],
   "source": [
    "fits_file = fits.open(fits_file_path)"
   ]
  },
  {
   "cell_type": "code",
   "execution_count": 111,
   "metadata": {},
   "outputs": [
    {
     "name": "stdout",
     "output_type": "stream",
     "text": [
      "Filename: /Users/giacomodamico/Desktop/CTA/0_Analysis/4_GAMMAPY_19/gammapy-datasets/magic/rad_max/data/magic_dl3_run_05029748.fits\n",
      "No.    Name      Ver    Type      Cards   Dimensions   Format\n",
      "  0  PRIMARY       1 PrimaryHDU       6   ()      \n",
      "  1  EVENTS        1 BinTableHDU     53   13121R x 5C   [1K, 1D, 1E, 1E, 1E]   \n",
      "  2  GTI           1 BinTableHDU     24   1R x 2C   [1D, 1D]   \n",
      "  3  RAD_MAX       1 BinTableHDU     33   1R x 5C   [28E, 28E, 1E, 1E, 28E]   \n",
      "  4  EFFECTIVE AREA    1 BinTableHDU     35   1R x 5C   [20E, 20E, 1E, 1E, 20E]   \n",
      "  5  ENERGY DISPERSION    1 BinTableHDU     36   1R x 7C   [20E, 20E, 28E, 28E, 1E, 1E, 560E]   \n"
     ]
    }
   ],
   "source": [
    "fits_file.info()"
   ]
  },
  {
   "cell_type": "code",
   "execution_count": 100,
   "metadata": {},
   "outputs": [],
   "source": [
    "fits_file = fits.open('data_test/run_05029747_DL3.fits')"
   ]
  },
  {
   "cell_type": "markdown",
   "metadata": {},
   "source": [
    "We can retrieve some basic information on the  header data unit (HDU) by calling `.info()`:"
   ]
  },
  {
   "cell_type": "code",
   "execution_count": 112,
   "metadata": {},
   "outputs": [
    {
     "name": "stdout",
     "output_type": "stream",
     "text": [
      "Filename: /Users/giacomodamico/Desktop/CTA/0_Analysis/4_GAMMAPY_19/gammapy-datasets/magic/rad_max/data/magic_dl3_run_05029748.fits\n",
      "No.    Name      Ver    Type      Cards   Dimensions   Format\n",
      "  0  PRIMARY       1 PrimaryHDU       6   ()      \n",
      "  1  EVENTS        1 BinTableHDU     53   13121R x 5C   [1K, 1D, 1E, 1E, 1E]   \n",
      "  2  GTI           1 BinTableHDU     24   1R x 2C   [1D, 1D]   \n",
      "  3  RAD_MAX       1 BinTableHDU     33   1R x 5C   [28E, 28E, 1E, 1E, 28E]   \n",
      "  4  EFFECTIVE AREA    1 BinTableHDU     35   1R x 5C   [20E, 20E, 1E, 1E, 20E]   \n",
      "  5  ENERGY DISPERSION    1 BinTableHDU     36   1R x 7C   [20E, 20E, 28E, 28E, 1E, 1E, 560E]   \n"
     ]
    }
   ],
   "source": [
    "fits_file.info()"
   ]
  },
  {
   "cell_type": "markdown",
   "metadata": {},
   "source": [
    "## 4.1 Primary"
   ]
  },
  {
   "cell_type": "code",
   "execution_count": 113,
   "metadata": {},
   "outputs": [],
   "source": [
    "primary = fits_file['PRIMARY'] \n",
    "\n",
    "#or\n",
    "\n",
    "primary = fits_file[0] "
   ]
  },
  {
   "cell_type": "code",
   "execution_count": 114,
   "metadata": {},
   "outputs": [],
   "source": [
    "primary.data"
   ]
  },
  {
   "cell_type": "markdown",
   "metadata": {},
   "source": [
    "Additional meta information is stored in the `.header` attribute:"
   ]
  },
  {
   "cell_type": "code",
   "execution_count": 115,
   "metadata": {},
   "outputs": [
    {
     "data": {
      "text/plain": [
       "SIMPLE  =                    T / file does conform to FITS standard             \n",
       "BITPIX  =                   16 / number of bits per data pixel                  \n",
       "NAXIS   =                    0 / number of data axes                            \n",
       "EXTEND  =                    T / FITS dataset may contain extensions            \n",
       "COMMENT   FITS (Flexible Image Transport System) format is defined in 'Astronomy\n",
       "COMMENT   and Astrophysics', volume 376, page 359; bibcode: 2001A&A...376..359H "
      ]
     },
     "execution_count": 115,
     "metadata": {},
     "output_type": "execute_result"
    }
   ],
   "source": [
    "primary.header"
   ]
  },
  {
   "cell_type": "markdown",
   "metadata": {},
   "source": [
    "## 4.2 Events"
   ]
  },
  {
   "cell_type": "code",
   "execution_count": 228,
   "metadata": {},
   "outputs": [],
   "source": [
    "events = fits_file['EVENTS']"
   ]
  },
  {
   "cell_type": "markdown",
   "metadata": {},
   "source": [
    "Using header we get all the information on how this events were collected"
   ]
  },
  {
   "cell_type": "code",
   "execution_count": 229,
   "metadata": {},
   "outputs": [
    {
     "data": {
      "text/plain": [
       "XTENSION= 'BINTABLE'           / binary table extension                         \n",
       "BITPIX  =                    8 / 8-bit bytes                                    \n",
       "NAXIS   =                    2 / 2-dimensional binary table                     \n",
       "NAXIS1  =                   28 / width of table in bytes                        \n",
       "NAXIS2  =                13121 / number of rows in table                        \n",
       "PCOUNT  =                    0 / size of special data area                      \n",
       "GCOUNT  =                    1 / one data group (required keyword)              \n",
       "TFIELDS =                    5 / number of fields in each row                   \n",
       "TTYPE1  = 'EVENT_ID'           / label for field   1                            \n",
       "TFORM1  = '1K      '           / data format of field: 8-byte INTEGER           \n",
       "TTYPE2  = 'TIME    '           / label for field   2                            \n",
       "TFORM2  = '1D      '           / data format of field: 8-byte DOUBLE            \n",
       "TUNIT2  = 's       '           / physical unit of field                         \n",
       "TTYPE3  = 'RA      '           / label for field   3                            \n",
       "TFORM3  = '1E      '           / data format of field: 4-byte REAL              \n",
       "TUNIT3  = 'deg     '           / physical unit of field                         \n",
       "TTYPE4  = 'DEC     '           / label for field   4                            \n",
       "TFORM4  = '1E      '           / data format of field: 4-byte REAL              \n",
       "TUNIT4  = 'deg     '           / physical unit of field                         \n",
       "TTYPE5  = 'ENERGY  '           / label for field   5                            \n",
       "TFORM5  = '1E      '           / data format of field: 4-byte REAL              \n",
       "TUNIT5  = 'TeV     '           / physical unit of field                         \n",
       "EXTNAME = 'EVENTS  '           / name of this binary table extension            \n",
       "HDUCLASS= 'GADF    '           / conformant with GADF specifications            \n",
       "HDUDOC  = 'https://github.com/open-gamma-ray-astro/gamma-astro-data-formats' / d\n",
       "HDUVERS = '0.2     '           / version of the format                          \n",
       "HDUCLAS1= 'EVENTS  '           / primary extension class                        \n",
       "OBS_ID  =              5029748 / unique observation identifier                  \n",
       "TSTART  =         3.337801E+08 / [s] observation start time                     \n",
       "TSTOP   =         3.337812E+08 / [s] observation end time                       \n",
       "ONTIME  =                1188. / [s] total good time (sum of GTIs)              \n",
       "LIVETIME=             1174.854 / [s] total effective time                       \n",
       "DEADC   =            0.9889342 / dead time correction                           \n",
       "OBS_MODE= 'POINTING'           / observation mode                               \n",
       "EQUINOX =                2000. / equinox                                        \n",
       "RADECSYS= 'FK5     '           / stellar reference frame                        \n",
       "ORIGIN  = 'MAGIC DL3 working group' / organisation that created the FITS file   \n",
       "TELESCOP= 'MAGIC   '           / telescope                                      \n",
       "INSTRUME= 'MAGIC stereo, post major upgrade' / instrument                       \n",
       "CREATOR = 'magic_dl3'          / software that created the file                 \n",
       "MJDREFI =                52706 / [d] integer part of reference MJD              \n",
       "MJDREFF =                   0. / [d] fractional part of reference MJD           \n",
       "TIMEUNIT= 's       '           / time unit                                      \n",
       "TIMESYS = 'UTC     '           / time system                                    \n",
       "TIMEREF = 'local   '           / time reference frame                           \n",
       "OBJECT  = 'CrabNebula'         / name of the source                             \n",
       "RA_OBJ  =             83.63333 / [deg] source RA                                \n",
       "DEC_OBJ =             22.01444 / [deg] source DEC                               \n",
       "OBS_MODE= 'Wobble  '           / observation mode                               \n",
       "RA_PNT  =             83.27917 / [deg] observation pointing RA                  \n",
       "DEC_PNT =             21.78389 / [deg] observation pointing DEC                 \n",
       "ALT_PNT =             74.33519 / [deg] average altitude pointing                \n",
       "AZ_PNT  =             113.0606 / [deg] average azimuth pointing                 "
      ]
     },
     "execution_count": 229,
     "metadata": {},
     "output_type": "execute_result"
    }
   ],
   "source": [
    "events.header"
   ]
  },
  {
   "cell_type": "code",
   "execution_count": 232,
   "metadata": {},
   "outputs": [
    {
     "data": {
      "text/plain": [
       "['EVENT_ID', 'TIME', 'RA', 'DEC', 'ENERGY']"
      ]
     },
     "execution_count": 232,
     "metadata": {},
     "output_type": "execute_result"
    }
   ],
   "source": [
    "events.columns.names"
   ]
  },
  {
   "cell_type": "markdown",
   "metadata": {},
   "source": [
    "In Astropy Table format"
   ]
  },
  {
   "cell_type": "code",
   "execution_count": 236,
   "metadata": {},
   "outputs": [
    {
     "data": {
      "text/html": [
       "<div><i>Table length=13121</i>\n",
       "<table id=\"table6080319744\" class=\"table-striped table-bordered table-condensed\">\n",
       "<thead><tr><th>EVENT_ID</th><th>TIME</th><th>RA</th><th>DEC</th><th>ENERGY</th></tr></thead>\n",
       "<thead><tr><th>int64</th><th>float64</th><th>float32</th><th>float32</th><th>float32</th></tr></thead>\n",
       "<tr><td>45</td><td>333780072.924045</td><td>82.171776</td><td>22.421804</td><td>0.05833082</td></tr>\n",
       "<tr><td>55</td><td>333780072.96587616</td><td>83.7298</td><td>22.292458</td><td>0.050995573</td></tr>\n",
       "<tr><td>84</td><td>333780073.07869804</td><td>83.79548</td><td>21.145731</td><td>0.039031275</td></tr>\n",
       "<tr><td>120</td><td>333780073.1953195</td><td>82.03501</td><td>21.570885</td><td>0.040015426</td></tr>\n",
       "<tr><td>123</td><td>333780073.20475286</td><td>83.60063</td><td>21.996529</td><td>0.13071066</td></tr>\n",
       "<tr><td>182</td><td>333780073.4312252</td><td>83.74355</td><td>22.04678</td><td>0.057374142</td></tr>\n",
       "<tr><td>232</td><td>333780073.5817839</td><td>83.505615</td><td>22.118025</td><td>0.04792382</td></tr>\n",
       "<tr><td>...</td><td>...</td><td>...</td><td>...</td><td>...</td></tr>\n",
       "<tr><td>7382</td><td>333781255.7007259</td><td>82.49239</td><td>21.967741</td><td>0.039261505</td></tr>\n",
       "<tr><td>7400</td><td>333781255.7660941</td><td>83.097786</td><td>22.48966</td><td>0.034998458</td></tr>\n",
       "<tr><td>7412</td><td>333781255.8083508</td><td>82.7294</td><td>22.52055</td><td>0.43338865</td></tr>\n",
       "<tr><td>7414</td><td>333781255.8163346</td><td>83.34557</td><td>21.76996</td><td>0.073948726</td></tr>\n",
       "<tr><td>7456</td><td>333781255.94586265</td><td>81.6412</td><td>22.488407</td><td>0.24151786</td></tr>\n",
       "<tr><td>7485</td><td>333781256.01994</td><td>83.90131</td><td>22.078365</td><td>0.11895279</td></tr>\n",
       "<tr><td>7563</td><td>333781256.265249</td><td>83.032</td><td>21.401814</td><td>0.036978148</td></tr>\n",
       "</table></div>"
      ],
      "text/plain": [
       "<Table length=13121>\n",
       "EVENT_ID        TIME            RA       DEC       ENERGY  \n",
       " int64        float64        float32   float32    float32  \n",
       "-------- ------------------ --------- --------- -----------\n",
       "      45   333780072.924045 82.171776 22.421804  0.05833082\n",
       "      55 333780072.96587616   83.7298 22.292458 0.050995573\n",
       "      84 333780073.07869804  83.79548 21.145731 0.039031275\n",
       "     120  333780073.1953195  82.03501 21.570885 0.040015426\n",
       "     123 333780073.20475286  83.60063 21.996529  0.13071066\n",
       "     182  333780073.4312252  83.74355  22.04678 0.057374142\n",
       "     232  333780073.5817839 83.505615 22.118025  0.04792382\n",
       "     ...                ...       ...       ...         ...\n",
       "    7382  333781255.7007259  82.49239 21.967741 0.039261505\n",
       "    7400  333781255.7660941 83.097786  22.48966 0.034998458\n",
       "    7412  333781255.8083508   82.7294  22.52055  0.43338865\n",
       "    7414  333781255.8163346  83.34557  21.76996 0.073948726\n",
       "    7456 333781255.94586265   81.6412 22.488407  0.24151786\n",
       "    7485    333781256.01994  83.90131 22.078365  0.11895279\n",
       "    7563   333781256.265249    83.032 21.401814 0.036978148"
      ]
     },
     "execution_count": 236,
     "metadata": {},
     "output_type": "execute_result"
    }
   ],
   "source": [
    "events_table = Table( events.data )\n",
    "events_table"
   ]
  },
  {
   "cell_type": "code",
   "execution_count": 237,
   "metadata": {},
   "outputs": [],
   "source": [
    "ra  = events_table['RA']\n",
    "dec = events_table['DEC']"
   ]
  },
  {
   "cell_type": "code",
   "execution_count": 239,
   "metadata": {},
   "outputs": [
    {
     "data": {
      "text/plain": [
       "<matplotlib.legend.Legend at 0x16c1da700>"
      ]
     },
     "execution_count": 239,
     "metadata": {},
     "output_type": "execute_result"
    },
    {
     "data": {
      "image/png": "[encoded data removed]",
      "text/plain": [
       "<Figure size 700x700 with 1 Axes>"
      ]
     },
     "metadata": {},
     "output_type": "display_data"
    }
   ],
   "source": [
    "# Direction of the events\n",
    "fig, ax =  plt.subplots(figsize=(7,7))\n",
    "#ax = plt.subplot(projection=wcs)\n",
    "\n",
    "ax.scatter(ra,dec, s=0.2, alpha=0.5, label=\"All Events\")\n",
    "\n",
    "\n",
    "\n",
    "plt.ylabel('Dec [deg]')\n",
    "plt.xlabel('RA [deg]')\n",
    "plt.title('Sky Event Distribution')\n",
    "ax.legend(loc=\"best\")"
   ]
  },
  {
   "cell_type": "code",
   "execution_count": 242,
   "metadata": {},
   "outputs": [],
   "source": [
    "energies  = events_table['ENERGY']"
   ]
  },
  {
   "cell_type": "code",
   "execution_count": 243,
   "metadata": {},
   "outputs": [
    {
     "data": {
      "text/plain": [
       "Text(0.5, 1.0, 'Energy distribution')"
      ]
     },
     "execution_count": 243,
     "metadata": {},
     "output_type": "execute_result"
    },
    {
     "data": {
      "image/png": "[encoded data removed]",
      "text/plain": [
       "<Figure size 640x480 with 1 Axes>"
      ]
     },
     "metadata": {},
     "output_type": "display_data"
    }
   ],
   "source": [
    "\n",
    "binning = np.logspace(-2,1,20)\n",
    "\n",
    "plt.hist(energies,bins=binning,alpha=0.6,log=True)\n",
    "plt.xscale('log')\n",
    "\n",
    "plt.xlabel('Energy [TeV]')\n",
    "plt.ylabel('Counts')\n",
    "plt.title('Energy distribution')"
   ]
  },
  {
   "cell_type": "markdown",
   "metadata": {},
   "source": [
    "## Excercise\n",
    "\n",
    " - Add on the Sky plot the poition of the source and the position of the pointing of the telescope"
   ]
  },
  {
   "cell_type": "markdown",
   "metadata": {},
   "source": [
    "## 4.3 GTI"
   ]
  },
  {
   "cell_type": "code",
   "execution_count": 120,
   "metadata": {},
   "outputs": [],
   "source": [
    "gti = fits_file['GTI']"
   ]
  },
  {
   "cell_type": "code",
   "execution_count": 234,
   "metadata": {},
   "outputs": [
    {
     "data": {
      "text/plain": [
       "XTENSION= 'BINTABLE'           / binary table extension                         \n",
       "BITPIX  =                    8 / 8-bit bytes                                    \n",
       "NAXIS   =                    2 / 2-dimensional binary table                     \n",
       "NAXIS1  =                   16 / width of table in bytes                        \n",
       "NAXIS2  =                    1 / number of rows in table                        \n",
       "PCOUNT  =                    0 / size of special data area                      \n",
       "GCOUNT  =                    1 / one data group (required keyword)              \n",
       "TFIELDS =                    2 / number of fields in each row                   \n",
       "TTYPE1  = 'START   '           / label for field   1                            \n",
       "TFORM1  = '1D      '           / data format of field: 8-byte DOUBLE            \n",
       "TUNIT1  = 's       '           / physical unit of field                         \n",
       "TTYPE2  = 'STOP    '           / label for field   2                            \n",
       "TFORM2  = '1D      '           / data format of field: 8-byte DOUBLE            \n",
       "TUNIT2  = 's       '           / physical unit of field                         \n",
       "EXTNAME = 'GTI     '           / name of this binary table extension            \n",
       "HDUCLASS= 'GADF    '           / conformant with GADF specifications            \n",
       "HDUDOC  = 'https://github.com/open-gamma-ray-astro/gamma-astro-data-formats' / d\n",
       "HDUVERS = '0.2     '           / version of the format                          \n",
       "HDUCLAS1= 'GTI     '           / primary extension class                        \n",
       "MJDREFI =                52706 / [d] integer part of reference MJD              \n",
       "MJDREFF =                   0. / [d] fractional part of reference MJD           \n",
       "TIMEUNIT= 's       '           / time unit                                      \n",
       "TIMESYS = 'UTC     '           / time system                                    \n",
       "TIMEREF = 'local   '           / time reference frame                           "
      ]
     },
     "execution_count": 234,
     "metadata": {},
     "output_type": "execute_result"
    }
   ],
   "source": [
    "gti.header"
   ]
  },
  {
   "cell_type": "code",
   "execution_count": 122,
   "metadata": {},
   "outputs": [
    {
     "data": {
      "text/html": [
       "<div><i>Table length=1</i>\n",
       "<table id=\"table5980218848\" class=\"table-striped table-bordered table-condensed\">\n",
       "<thead><tr><th>START</th><th>STOP</th></tr></thead>\n",
       "<thead><tr><th>float64</th><th>float64</th></tr></thead>\n",
       "<tr><td>333780064.0</td><td>333781248.0</td></tr>\n",
       "</table></div>"
      ],
      "text/plain": [
       "<Table length=1>\n",
       "   START        STOP   \n",
       "  float64     float64  \n",
       "----------- -----------\n",
       "333780064.0 333781248.0"
      ]
     },
     "execution_count": 122,
     "metadata": {},
     "output_type": "execute_result"
    }
   ],
   "source": [
    "Table( gti.data )"
   ]
  },
  {
   "cell_type": "markdown",
   "metadata": {},
   "source": [
    "## 4.4 Effective Area"
   ]
  },
  {
   "cell_type": "code",
   "execution_count": 123,
   "metadata": {},
   "outputs": [],
   "source": [
    "effective_area = fits_file['EFFECTIVE AREA']"
   ]
  },
  {
   "cell_type": "code",
   "execution_count": 124,
   "metadata": {},
   "outputs": [
    {
     "data": {
      "text/plain": [
       "XTENSION= 'BINTABLE'           / binary table extension                         \n",
       "BITPIX  =                    8 / 8-bit bytes                                    \n",
       "NAXIS   =                    2 / 2-dimensional binary table                     \n",
       "NAXIS1  =                  248 / width of table in bytes                        \n",
       "NAXIS2  =                    1 / number of rows in table                        \n",
       "PCOUNT  =                    0 / size of special data area                      \n",
       "GCOUNT  =                    1 / one data group (required keyword)              \n",
       "TFIELDS =                    5 / number of fields in each row                   \n",
       "TTYPE1  = 'ENERG_LO'           / label for field   1                            \n",
       "TFORM1  = '20E     '           / data format of field: 4-byte REAL              \n",
       "TUNIT1  = 'TeV     '           / physical unit of field                         \n",
       "TTYPE2  = 'ENERG_HI'           / label for field   2                            \n",
       "TFORM2  = '20E     '           / data format of field: 4-byte REAL              \n",
       "TUNIT2  = 'TeV     '           / physical unit of field                         \n",
       "TTYPE3  = 'THETA_LO'           / label for field   3                            \n",
       "TFORM3  = '1E      '           / data format of field: 4-byte REAL              \n",
       "TUNIT3  = 'deg     '           / physical unit of field                         \n",
       "TTYPE4  = 'THETA_HI'           / label for field   4                            \n",
       "TFORM4  = '1E      '           / data format of field: 4-byte REAL              \n",
       "TUNIT4  = 'deg     '           / physical unit of field                         \n",
       "TTYPE5  = 'EFFAREA '           / label for field   5                            \n",
       "TFORM5  = '20E     '           / data format of field: 4-byte REAL              \n",
       "TUNIT5  = 'm2      '           / physical unit of field                         \n",
       "EXTNAME = 'EFFECTIVE AREA'     / name of this binary table extension            \n",
       "HDUDOC  = 'https://github.com/open-gamma-ray-astro/gamma-astro-data-formats' / d\n",
       "HDUVERS = '0.2     '           / version of the format                          \n",
       "HDUCLASS= 'GADF    '           / conformant with GADF specifications            \n",
       "HDUCLAS1= 'RESPONSE'           / primary extension class                        \n",
       "HDUCLAS2= 'EFF_AREA'           / IRF component                                  \n",
       "HDUCLAS3= 'POINT-LIKE'         / IRF type                                       \n",
       "HDUCLAS4= 'AEFF_2D '           / IRF type                                       \n",
       "TDIM5   = '(20, 1) '           / number of elements and ordering                \n",
       "CREF5   = '(ENERG_LO:ENERG_HI,THETA_LO:THETA_HI)' / column referencing keyword f\n",
       "OBS_ID  =              5029748 / unique observation identifier                  \n",
       "LO_THRES=           0.08073071 / [TeV] low energy threshold                     "
      ]
     },
     "execution_count": 124,
     "metadata": {},
     "output_type": "execute_result"
    }
   ],
   "source": [
    "effective_area.header"
   ]
  },
  {
   "cell_type": "code",
   "execution_count": 125,
   "metadata": {},
   "outputs": [
    {
     "data": {
      "text/html": [
       "<div><i>Table length=1</i>\n",
       "<table id=\"table5980220576\" class=\"table-striped table-bordered table-condensed\">\n",
       "<thead><tr><th>ENERG_LO</th><th>ENERG_HI</th><th>THETA_LO</th><th>THETA_HI</th><th>EFFAREA</th></tr></thead>\n",
       "<thead><tr><th>float32[20]</th><th>float32[20]</th><th>float32</th><th>float32</th><th>float32[1,20]</th></tr></thead>\n",
       "<tr><td>0.0050000004 .. 31.547869</td><td>0.007924466 .. 50.000004</td><td>0.39</td><td>0.41</td><td>0.0 .. 0.0</td></tr>\n",
       "</table></div>"
      ],
      "text/plain": [
       "<Table length=1>\n",
       "         ENERG_LO                 ENERG_HI         THETA_LO THETA_HI    EFFAREA   \n",
       "       float32[20]              float32[20]        float32  float32  float32[1,20]\n",
       "------------------------- ------------------------ -------- -------- -------------\n",
       "0.0050000004 .. 31.547869 0.007924466 .. 50.000004     0.39     0.41    0.0 .. 0.0"
      ]
     },
     "execution_count": 125,
     "metadata": {},
     "output_type": "execute_result"
    }
   ],
   "source": [
    "Table( effective_area.data)"
   ]
  },
  {
   "cell_type": "markdown",
   "metadata": {},
   "source": [
    "## 4.5 Energy Dispersion"
   ]
  },
  {
   "cell_type": "code",
   "execution_count": 126,
   "metadata": {},
   "outputs": [],
   "source": [
    "en_disp = fits_file['ENERGY DISPERSION']"
   ]
  },
  {
   "cell_type": "code",
   "execution_count": 127,
   "metadata": {},
   "outputs": [
    {
     "data": {
      "text/plain": [
       "XTENSION= 'BINTABLE'           / binary table extension                         \n",
       "BITPIX  =                    8 / 8-bit bytes                                    \n",
       "NAXIS   =                    2 / 2-dimensional binary table                     \n",
       "NAXIS1  =                 2632 / width of table in bytes                        \n",
       "NAXIS2  =                    1 / number of rows in table                        \n",
       "PCOUNT  =                    0 / size of special data area                      \n",
       "GCOUNT  =                    1 / one data group (required keyword)              \n",
       "TFIELDS =                    7 / number of fields in each row                   \n",
       "TTYPE1  = 'ENERG_LO'           / label for field   1                            \n",
       "TFORM1  = '20E     '           / data format of field: 4-byte REAL              \n",
       "TUNIT1  = 'TeV     '           / physical unit of field                         \n",
       "TTYPE2  = 'ENERG_HI'           / label for field   2                            \n",
       "TFORM2  = '20E     '           / data format of field: 4-byte REAL              \n",
       "TUNIT2  = 'TeV     '           / physical unit of field                         \n",
       "TTYPE3  = 'MIGRA_LO'           / label for field   3                            \n",
       "TFORM3  = '28E     '           / data format of field: 4-byte REAL              \n",
       "TTYPE4  = 'MIGRA_HI'           / label for field   4                            \n",
       "TFORM4  = '28E     '           / data format of field: 4-byte REAL              \n",
       "TTYPE5  = 'THETA_LO'           / label for field   5                            \n",
       "TFORM5  = '1E      '           / data format of field: 4-byte REAL              \n",
       "TUNIT5  = 'deg     '           / physical unit of field                         \n",
       "TTYPE6  = 'THETA_HI'           / label for field   6                            \n",
       "TFORM6  = '1E      '           / data format of field: 4-byte REAL              \n",
       "TUNIT6  = 'deg     '           / physical unit of field                         \n",
       "TTYPE7  = 'MATRIX  '           / label for field   7                            \n",
       "TFORM7  = '560E    '           / data format of field: 4-byte REAL              \n",
       "EXTNAME = 'ENERGY DISPERSION'  / name of this binary table extension            \n",
       "HDUDOC  = 'https://github.com/open-gamma-ray-astro/gamma-astro-data-formats' / d\n",
       "HDUVERS = '0.2     '           / version of the format                          \n",
       "HDUCLASS= 'GADF    '           / conformant with GADF specifications            \n",
       "HDUCLAS1= 'RESPONSE'           / primary extension class                        \n",
       "HDUCLAS2= 'EDISP   '           / IRF component                                  \n",
       "HDUCLAS3= 'POINT-LIKE'         / IRF type                                       \n",
       "HDUCLAS4= 'EDISP_2D'           / IRF type                                       \n",
       "TDIM7   = '(20, 28, 1)'        / number of elements and ordering                \n",
       "CREF7   = '(ENERG_LO:ENERG_HI,MIGRA_LO:MIGRA_HI,THETA_LO:THETA_HI)' / column ref"
      ]
     },
     "execution_count": 127,
     "metadata": {},
     "output_type": "execute_result"
    }
   ],
   "source": [
    "en_disp.header"
   ]
  },
  {
   "cell_type": "code",
   "execution_count": 128,
   "metadata": {},
   "outputs": [
    {
     "data": {
      "text/html": [
       "<div><i>Table length=1</i>\n",
       "<table id=\"table5924444912\" class=\"table-striped table-bordered table-condensed\">\n",
       "<thead><tr><th>ENERG_LO</th><th>ENERG_HI</th><th>MIGRA_LO</th><th>MIGRA_HI</th><th>THETA_LO</th><th>THETA_HI</th><th>MATRIX</th></tr></thead>\n",
       "<thead><tr><th>float32[20]</th><th>float32[20]</th><th>float32[28]</th><th>float32[28]</th><th>float32</th><th>float32</th><th>float32[1,28,20]</th></tr></thead>\n",
       "<tr><td>0.0050000004 .. 31.547869</td><td>0.007924466 .. 50.000004</td><td>0.1 .. 9.646428</td><td>0.45357144 .. 10.0</td><td>0.39</td><td>0.41</td><td>0.0 .. 0.0</td></tr>\n",
       "</table></div>"
      ],
      "text/plain": [
       "<Table length=1>\n",
       "         ENERG_LO                 ENERG_HI             MIGRA_LO         MIGRA_HI      THETA_LO THETA_HI      MATRIX     \n",
       "       float32[20]              float32[20]          float32[28]      float32[28]     float32  float32  float32[1,28,20]\n",
       "------------------------- ------------------------ --------------- ------------------ -------- -------- ----------------\n",
       "0.0050000004 .. 31.547869 0.007924466 .. 50.000004 0.1 .. 9.646428 0.45357144 .. 10.0     0.39     0.41       0.0 .. 0.0"
      ]
     },
     "execution_count": 128,
     "metadata": {},
     "output_type": "execute_result"
    }
   ],
   "source": [
    "Table( en_disp.data )"
   ]
  }
 ],
 "metadata": {
  "kernelspec": {
   "display_name": "Python 3 (ipykernel)",
   "language": "python",
   "name": "python3"
  },
  "language_info": {
   "codemirror_mode": {
    "name": "ipython",
    "version": 3
   },
   "file_extension": ".py",
   "mimetype": "text/x-python",
   "name": "python",
   "nbconvert_exporter": "python",
   "pygments_lexer": "ipython3",
   "version": "3.9.18"
  }
 },
 "nbformat": 4,
 "nbformat_minor": 4
}
